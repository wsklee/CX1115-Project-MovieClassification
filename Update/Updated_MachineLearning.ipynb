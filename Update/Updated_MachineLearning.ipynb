{
 "cells": [
  {
   "attachments": {},
   "cell_type": "markdown",
   "id": "sharp-watson",
   "metadata": {},
   "source": [
    "# Machine Learning (Updated)\n",
    "\n",
    "## Problem:\n",
    "To find out if the machine learning models can classify the keywords of movies and predict the genre of the movie in a test set correctly.\n",
    "\n",
    "If machine learning can predict the genre correctly, it means there is relevance between the keywords and the genre.\n",
    "This means there is a way to predict the genre just with keywords, solving our objective.\n"
   ]
  },
  {
   "cell_type": "code",
   "execution_count": 2,
   "id": "legal-ready",
   "metadata": {},
   "outputs": [],
   "source": [
    "import pandas as pd\n",
    "import numpy as np\n",
    "import json\n",
    "import csv\n",
    "import matplotlib.pyplot as plt \n",
    "import seaborn as sns\n",
    "from sklearn.feature_extraction.text import TfidfVectorizer\n",
    "from sklearn.model_selection import train_test_split\n",
    "\n",
    "%matplotlib inline"
   ]
  },
  {
   "cell_type": "code",
   "execution_count": 3,
   "id": "sized-check",
   "metadata": {},
   "outputs": [
    {
     "data": {
      "text/html": [
       "<div>\n",
       "<style scoped>\n",
       "    .dataframe tbody tr th:only-of-type {\n",
       "        vertical-align: middle;\n",
       "    }\n",
       "\n",
       "    .dataframe tbody tr th {\n",
       "        vertical-align: top;\n",
       "    }\n",
       "\n",
       "    .dataframe thead th {\n",
       "        text-align: right;\n",
       "    }\n",
       "</style>\n",
       "<table border=\"1\" class=\"dataframe\">\n",
       "  <thead>\n",
       "    <tr style=\"text-align: right;\">\n",
       "      <th></th>\n",
       "      <th>title</th>\n",
       "      <th>id</th>\n",
       "      <th>genres</th>\n",
       "      <th>keywords</th>\n",
       "    </tr>\n",
       "  </thead>\n",
       "  <tbody>\n",
       "    <tr>\n",
       "      <th>0</th>\n",
       "      <td>Blondie</td>\n",
       "      <td>3924</td>\n",
       "      <td>['Comedy']</td>\n",
       "      <td>['blondi']</td>\n",
       "    </tr>\n",
       "    <tr>\n",
       "      <th>1</th>\n",
       "      <td>Four Rooms</td>\n",
       "      <td>5</td>\n",
       "      <td>['Crime', 'Comedy']</td>\n",
       "      <td>['hotel', \"new year's ev\", 'witch', 'bet', 'ho...</td>\n",
       "    </tr>\n",
       "    <tr>\n",
       "      <th>2</th>\n",
       "      <td>Judgment Night</td>\n",
       "      <td>6</td>\n",
       "      <td>['Action', 'Thriller', 'Crime']</td>\n",
       "      <td>['chicago, illinoi', 'drug deal', 'escap', 'on...</td>\n",
       "    </tr>\n",
       "    <tr>\n",
       "      <th>3</th>\n",
       "      <td>Star Wars</td>\n",
       "      <td>11</td>\n",
       "      <td>['Adventure', 'Action', 'Science Fiction']</td>\n",
       "      <td>['android', 'galaxi', 'hermit', 'death star', ...</td>\n",
       "    </tr>\n",
       "    <tr>\n",
       "      <th>4</th>\n",
       "      <td>Finding Nemo</td>\n",
       "      <td>12</td>\n",
       "      <td>['Animation', 'Family']</td>\n",
       "      <td>['parent child relationship', 'sydney, austral...</td>\n",
       "    </tr>\n",
       "  </tbody>\n",
       "</table>\n",
       "</div>"
      ],
      "text/plain": [
       "            title    id                                      genres  \\\n",
       "0         Blondie  3924                                  ['Comedy']   \n",
       "1      Four Rooms     5                         ['Crime', 'Comedy']   \n",
       "2  Judgment Night     6             ['Action', 'Thriller', 'Crime']   \n",
       "3       Star Wars    11  ['Adventure', 'Action', 'Science Fiction']   \n",
       "4    Finding Nemo    12                     ['Animation', 'Family']   \n",
       "\n",
       "                                            keywords  \n",
       "0                                         ['blondi']  \n",
       "1  ['hotel', \"new year's ev\", 'witch', 'bet', 'ho...  \n",
       "2  ['chicago, illinoi', 'drug deal', 'escap', 'on...  \n",
       "3  ['android', 'galaxi', 'hermit', 'death star', ...  \n",
       "4  ['parent child relationship', 'sydney, austral...  "
      ]
     },
     "execution_count": 3,
     "metadata": {},
     "output_type": "execute_result"
    }
   ],
   "source": [
    "df= pd.read_excel('alpha_occur_cleaned_data.xlsx')\n",
    "df.head()"
   ]
  },
  {
   "cell_type": "code",
   "execution_count": 4,
   "id": "higher-overview",
   "metadata": {},
   "outputs": [
    {
     "data": {
      "text/plain": [
       "(19293, 4)"
      ]
     },
     "execution_count": 4,
     "metadata": {},
     "output_type": "execute_result"
    }
   ],
   "source": [
    "df.shape"
   ]
  },
  {
   "attachments": {},
   "cell_type": "markdown",
   "id": "0abe064e",
   "metadata": {},
   "source": [
    "### String processing.\n",
    "\n",
    "'genres' in csv/xlsx was stored as string instead of a list"
   ]
  },
  {
   "cell_type": "code",
   "execution_count": 5,
   "id": "pursuant-projector",
   "metadata": {},
   "outputs": [
    {
     "name": "stderr",
     "output_type": "stream",
     "text": [
      "<ipython-input-5-35f61ed1e178>:5: SettingWithCopyWarning: \n",
      "A value is trying to be set on a copy of a slice from a DataFrame\n",
      "\n",
      "See the caveats in the documentation: https://pandas.pydata.org/pandas-docs/stable/user_guide/indexing.html#returning-a-view-versus-a-copy\n",
      "  df['genres'][i] = ast.literal_eval(df['genres'][i])\n"
     ]
    }
   ],
   "source": [
    "# Using ast to convert genres from string to list.\n",
    "import ast\n",
    "# For loop on all the strings\n",
    "for i in range(df.shape[0]):\n",
    "    df['genres'][i] = ast.literal_eval(df['genres'][i])"
   ]
  },
  {
   "cell_type": "code",
   "execution_count": 6,
   "id": "derived-salmon",
   "metadata": {},
   "outputs": [
    {
     "data": {
      "text/html": [
       "<div>\n",
       "<style scoped>\n",
       "    .dataframe tbody tr th:only-of-type {\n",
       "        vertical-align: middle;\n",
       "    }\n",
       "\n",
       "    .dataframe tbody tr th {\n",
       "        vertical-align: top;\n",
       "    }\n",
       "\n",
       "    .dataframe thead th {\n",
       "        text-align: right;\n",
       "    }\n",
       "</style>\n",
       "<table border=\"1\" class=\"dataframe\">\n",
       "  <thead>\n",
       "    <tr style=\"text-align: right;\">\n",
       "      <th></th>\n",
       "      <th>title</th>\n",
       "      <th>id</th>\n",
       "      <th>genres</th>\n",
       "      <th>keywords</th>\n",
       "    </tr>\n",
       "  </thead>\n",
       "  <tbody>\n",
       "    <tr>\n",
       "      <th>0</th>\n",
       "      <td>Blondie</td>\n",
       "      <td>3924</td>\n",
       "      <td>[Comedy]</td>\n",
       "      <td>['blondi']</td>\n",
       "    </tr>\n",
       "    <tr>\n",
       "      <th>1</th>\n",
       "      <td>Four Rooms</td>\n",
       "      <td>5</td>\n",
       "      <td>[Crime, Comedy]</td>\n",
       "      <td>['hotel', \"new year's ev\", 'witch', 'bet', 'ho...</td>\n",
       "    </tr>\n",
       "    <tr>\n",
       "      <th>2</th>\n",
       "      <td>Judgment Night</td>\n",
       "      <td>6</td>\n",
       "      <td>[Action, Thriller, Crime]</td>\n",
       "      <td>['chicago, illinoi', 'drug deal', 'escap', 'on...</td>\n",
       "    </tr>\n",
       "    <tr>\n",
       "      <th>3</th>\n",
       "      <td>Star Wars</td>\n",
       "      <td>11</td>\n",
       "      <td>[Adventure, Action, Science Fiction]</td>\n",
       "      <td>['android', 'galaxi', 'hermit', 'death star', ...</td>\n",
       "    </tr>\n",
       "    <tr>\n",
       "      <th>4</th>\n",
       "      <td>Finding Nemo</td>\n",
       "      <td>12</td>\n",
       "      <td>[Animation, Family]</td>\n",
       "      <td>['parent child relationship', 'sydney, austral...</td>\n",
       "    </tr>\n",
       "  </tbody>\n",
       "</table>\n",
       "</div>"
      ],
      "text/plain": [
       "            title    id                                genres  \\\n",
       "0         Blondie  3924                              [Comedy]   \n",
       "1      Four Rooms     5                       [Crime, Comedy]   \n",
       "2  Judgment Night     6             [Action, Thriller, Crime]   \n",
       "3       Star Wars    11  [Adventure, Action, Science Fiction]   \n",
       "4    Finding Nemo    12                   [Animation, Family]   \n",
       "\n",
       "                                            keywords  \n",
       "0                                         ['blondi']  \n",
       "1  ['hotel', \"new year's ev\", 'witch', 'bet', 'ho...  \n",
       "2  ['chicago, illinoi', 'drug deal', 'escap', 'on...  \n",
       "3  ['android', 'galaxi', 'hermit', 'death star', ...  \n",
       "4  ['parent child relationship', 'sydney, austral...  "
      ]
     },
     "execution_count": 6,
     "metadata": {},
     "output_type": "execute_result"
    }
   ],
   "source": [
    "df.head()"
   ]
  },
  {
   "cell_type": "code",
   "execution_count": 7,
   "id": "younger-bible",
   "metadata": {},
   "outputs": [
    {
     "name": "stderr",
     "output_type": "stream",
     "text": [
      "<ipython-input-7-a014b36b4b05>:3: SettingWithCopyWarning: \n",
      "A value is trying to be set on a copy of a slice from a DataFrame\n",
      "\n",
      "See the caveats in the documentation: https://pandas.pydata.org/pandas-docs/stable/user_guide/indexing.html#returning-a-view-versus-a-copy\n",
      "  df['keywords'][i] = df['keywords'][i].replace(\" \", \"\")\n"
     ]
    }
   ],
   "source": [
    "# String processing on 'keywords'. Remove whitespaces\n",
    "for i in range(df.shape[0]):\n",
    "    df['keywords'][i] = df['keywords'][i].replace(\" \", \"\")"
   ]
  },
  {
   "cell_type": "code",
   "execution_count": 8,
   "id": "monthly-warrior",
   "metadata": {},
   "outputs": [
    {
     "data": {
      "text/html": [
       "<div>\n",
       "<style scoped>\n",
       "    .dataframe tbody tr th:only-of-type {\n",
       "        vertical-align: middle;\n",
       "    }\n",
       "\n",
       "    .dataframe tbody tr th {\n",
       "        vertical-align: top;\n",
       "    }\n",
       "\n",
       "    .dataframe thead th {\n",
       "        text-align: right;\n",
       "    }\n",
       "</style>\n",
       "<table border=\"1\" class=\"dataframe\">\n",
       "  <thead>\n",
       "    <tr style=\"text-align: right;\">\n",
       "      <th></th>\n",
       "      <th>title</th>\n",
       "      <th>id</th>\n",
       "      <th>genres</th>\n",
       "      <th>keywords</th>\n",
       "    </tr>\n",
       "  </thead>\n",
       "  <tbody>\n",
       "    <tr>\n",
       "      <th>0</th>\n",
       "      <td>Blondie</td>\n",
       "      <td>3924</td>\n",
       "      <td>[Comedy]</td>\n",
       "      <td>['blondi']</td>\n",
       "    </tr>\n",
       "    <tr>\n",
       "      <th>1</th>\n",
       "      <td>Four Rooms</td>\n",
       "      <td>5</td>\n",
       "      <td>[Crime, Comedy]</td>\n",
       "      <td>['hotel',\"newyear'sev\",'witch','bet','hotelroo...</td>\n",
       "    </tr>\n",
       "    <tr>\n",
       "      <th>2</th>\n",
       "      <td>Judgment Night</td>\n",
       "      <td>6</td>\n",
       "      <td>[Action, Thriller, Crime]</td>\n",
       "      <td>['chicago,illinoi','drugdeal','escap','onenigh...</td>\n",
       "    </tr>\n",
       "    <tr>\n",
       "      <th>3</th>\n",
       "      <td>Star Wars</td>\n",
       "      <td>11</td>\n",
       "      <td>[Adventure, Action, Science Fiction]</td>\n",
       "      <td>['android','galaxi','hermit','deathstar','jedi...</td>\n",
       "    </tr>\n",
       "    <tr>\n",
       "      <th>4</th>\n",
       "      <td>Finding Nemo</td>\n",
       "      <td>12</td>\n",
       "      <td>[Animation, Family]</td>\n",
       "      <td>['parentchildrelationship','sydney,australia',...</td>\n",
       "    </tr>\n",
       "    <tr>\n",
       "      <th>...</th>\n",
       "      <td>...</td>\n",
       "      <td>...</td>\n",
       "      <td>...</td>\n",
       "      <td>...</td>\n",
       "    </tr>\n",
       "    <tr>\n",
       "      <th>95</th>\n",
       "      <td>Star Trek V: The Final Frontier</td>\n",
       "      <td>172</td>\n",
       "      <td>[Science Fiction, Action, Adventure, Thriller]</td>\n",
       "      <td>['feder','lossoflovedon','selfsacrific','hosta...</td>\n",
       "    </tr>\n",
       "    <tr>\n",
       "      <th>96</th>\n",
       "      <td>20,000 Leagues Under the Sea</td>\n",
       "      <td>173</td>\n",
       "      <td>[Adventure, Drama, Family, Fantasy, Science Fi...</td>\n",
       "      <td>['dive','ocean','submarin','julesvern','captai...</td>\n",
       "    </tr>\n",
       "    <tr>\n",
       "      <th>97</th>\n",
       "      <td>Star Trek VI: The Undiscovered Country</td>\n",
       "      <td>174</td>\n",
       "      <td>[Science Fiction, Action, Adventure, Thriller]</td>\n",
       "      <td>['farewel','feder','courtcas','plan','spaceope...</td>\n",
       "    </tr>\n",
       "    <tr>\n",
       "      <th>98</th>\n",
       "      <td>Saw</td>\n",
       "      <td>176</td>\n",
       "      <td>[Horror, Mystery, Crime]</td>\n",
       "      <td>['detect','shotgun','flashback','hospit','doct...</td>\n",
       "    </tr>\n",
       "    <tr>\n",
       "      <th>99</th>\n",
       "      <td>The Fisher King</td>\n",
       "      <td>177</td>\n",
       "      <td>[Comedy, Drama]</td>\n",
       "      <td>['holygrail','lossoflovedon','homelessperson',...</td>\n",
       "    </tr>\n",
       "  </tbody>\n",
       "</table>\n",
       "<p>100 rows × 4 columns</p>\n",
       "</div>"
      ],
      "text/plain": [
       "                                     title    id  \\\n",
       "0                                  Blondie  3924   \n",
       "1                               Four Rooms     5   \n",
       "2                           Judgment Night     6   \n",
       "3                                Star Wars    11   \n",
       "4                             Finding Nemo    12   \n",
       "..                                     ...   ...   \n",
       "95         Star Trek V: The Final Frontier   172   \n",
       "96            20,000 Leagues Under the Sea   173   \n",
       "97  Star Trek VI: The Undiscovered Country   174   \n",
       "98                                     Saw   176   \n",
       "99                         The Fisher King   177   \n",
       "\n",
       "                                               genres  \\\n",
       "0                                            [Comedy]   \n",
       "1                                     [Crime, Comedy]   \n",
       "2                           [Action, Thriller, Crime]   \n",
       "3                [Adventure, Action, Science Fiction]   \n",
       "4                                 [Animation, Family]   \n",
       "..                                                ...   \n",
       "95     [Science Fiction, Action, Adventure, Thriller]   \n",
       "96  [Adventure, Drama, Family, Fantasy, Science Fi...   \n",
       "97     [Science Fiction, Action, Adventure, Thriller]   \n",
       "98                           [Horror, Mystery, Crime]   \n",
       "99                                    [Comedy, Drama]   \n",
       "\n",
       "                                             keywords  \n",
       "0                                          ['blondi']  \n",
       "1   ['hotel',\"newyear'sev\",'witch','bet','hotelroo...  \n",
       "2   ['chicago,illinoi','drugdeal','escap','onenigh...  \n",
       "3   ['android','galaxi','hermit','deathstar','jedi...  \n",
       "4   ['parentchildrelationship','sydney,australia',...  \n",
       "..                                                ...  \n",
       "95  ['feder','lossoflovedon','selfsacrific','hosta...  \n",
       "96  ['dive','ocean','submarin','julesvern','captai...  \n",
       "97  ['farewel','feder','courtcas','plan','spaceope...  \n",
       "98  ['detect','shotgun','flashback','hospit','doct...  \n",
       "99  ['holygrail','lossoflovedon','homelessperson',...  \n",
       "\n",
       "[100 rows x 4 columns]"
      ]
     },
     "execution_count": 8,
     "metadata": {},
     "output_type": "execute_result"
    }
   ],
   "source": [
    "df.head(100)"
   ]
  },
  {
   "attachments": {},
   "cell_type": "markdown",
   "id": "solid-trauma",
   "metadata": {},
   "source": [
    "### sanity check"
   ]
  },
  {
   "cell_type": "code",
   "execution_count": 9,
   "id": "catholic-hampshire",
   "metadata": {},
   "outputs": [
    {
     "data": {
      "text/plain": [
       "'Comedy'"
      ]
     },
     "execution_count": 9,
     "metadata": {},
     "output_type": "execute_result"
    }
   ],
   "source": [
    "df['genres'][10000][0]"
   ]
  },
  {
   "cell_type": "code",
   "execution_count": 10,
   "id": "dense-marina",
   "metadata": {},
   "outputs": [
    {
     "data": {
      "text/plain": [
       "\"['chicago,illinoi','drugdeal','escap','onenight','box']\""
      ]
     },
     "execution_count": 10,
     "metadata": {},
     "output_type": "execute_result"
    }
   ],
   "source": [
    "df['keywords'][2]"
   ]
  },
  {
   "attachments": {},
   "cell_type": "markdown",
   "id": "developmental-rhythm",
   "metadata": {},
   "source": [
    "## Multi-Label Classification \n",
    "### Problem Transformation : Binary Relevance\n",
    "\n",
    "Each target variable (genre) is treated independently.\n",
    "Multi-label classification reduced to n classification problems\n",
    "\n",
    "\n",
    "MultiLabelBinarizer module transforms iterable of iterables to a binary matrix.\n",
    "https://scikit-learn.org/stable/modules/generated/sklearn.preprocessing.MultiLabelBinarizer.html"
   ]
  },
  {
   "cell_type": "code",
   "execution_count": 11,
   "id": "cellular-mambo",
   "metadata": {},
   "outputs": [],
   "source": [
    "from sklearn.preprocessing import MultiLabelBinarizer\n",
    "\n",
    "# transform target variable\n",
    "multilabel_binarizer = MultiLabelBinarizer()\n",
    "y = multilabel_binarizer.fit_transform(df['genres'])"
   ]
  },
  {
   "cell_type": "code",
   "execution_count": 12,
   "id": "auburn-rental",
   "metadata": {},
   "outputs": [
    {
     "data": {
      "text/plain": [
       "array([[0, 0, 0, ..., 0, 0, 0],\n",
       "       [0, 0, 0, ..., 0, 0, 0],\n",
       "       [1, 0, 0, ..., 1, 0, 0],\n",
       "       ...,\n",
       "       [0, 0, 0, ..., 0, 0, 0],\n",
       "       [0, 0, 0, ..., 0, 0, 0],\n",
       "       [0, 0, 0, ..., 0, 0, 0]])"
      ]
     },
     "execution_count": 12,
     "metadata": {},
     "output_type": "execute_result"
    }
   ],
   "source": [
    "y"
   ]
  },
  {
   "cell_type": "code",
   "execution_count": 13,
   "id": "quick-tanzania",
   "metadata": {},
   "outputs": [
    {
     "data": {
      "text/plain": [
       "(19293, 19)"
      ]
     },
     "execution_count": 13,
     "metadata": {},
     "output_type": "execute_result"
    }
   ],
   "source": [
    "y.shape"
   ]
  },
  {
   "cell_type": "markdown",
   "id": "established-coffee",
   "metadata": {},
   "source": [
    "19 Genres encoded"
   ]
  },
  {
   "attachments": {},
   "cell_type": "markdown",
   "id": "2e2c411e",
   "metadata": {},
   "source": [
    "### Split dataset into training and test set"
   ]
  },
  {
   "cell_type": "code",
   "execution_count": 14,
   "id": "advised-crazy",
   "metadata": {},
   "outputs": [],
   "source": [
    "# split \n",
    "X_train, X_test, y_train, y_test = train_test_split(df['keywords'], y, test_size=0.2, random_state=9)"
   ]
  },
  {
   "cell_type": "code",
   "execution_count": 15,
   "id": "original-passport",
   "metadata": {},
   "outputs": [
    {
     "data": {
      "text/plain": [
       "6576         ['terrorist','undercov','lasvega','showgirl']\n",
       "8502           ['journalist','rockstar','music','concert']\n",
       "16532                                    ['privatedetect']\n",
       "3481     ['supercomput','computerprogram','destini','ti...\n",
       "8215                    ['robberi','bank','love','murder']\n",
       "                               ...                        \n",
       "4532     ['judg','juror','deathpenalti','revel','righta...\n",
       "4673     ['virgin','colleg','pregnanc','yoga','bikini',...\n",
       "5014                                 ['worldwarii','tank']\n",
       "9979     ['neonaz','prison','gallow','coffe','auschwitz...\n",
       "501      ['suicid','paranoia','blackmarket','hallucin',...\n",
       "Name: keywords, Length: 15434, dtype: object"
      ]
     },
     "execution_count": 15,
     "metadata": {},
     "output_type": "execute_result"
    }
   ],
   "source": [
    "X_train"
   ]
  },
  {
   "cell_type": "code",
   "execution_count": 16,
   "id": "bibliographic-dance",
   "metadata": {},
   "outputs": [
    {
     "data": {
      "text/plain": [
       "array([[1, 0, 0, ..., 1, 0, 0],\n",
       "       [0, 0, 0, ..., 0, 0, 0],\n",
       "       [0, 0, 0, ..., 0, 0, 0],\n",
       "       ...,\n",
       "       [0, 0, 0, ..., 0, 1, 0],\n",
       "       [0, 0, 0, ..., 0, 0, 0],\n",
       "       [0, 0, 0, ..., 0, 0, 0]])"
      ]
     },
     "execution_count": 16,
     "metadata": {},
     "output_type": "execute_result"
    }
   ],
   "source": [
    "y_train"
   ]
  },
  {
   "attachments": {},
   "cell_type": "markdown",
   "id": "acquired-intention",
   "metadata": {},
   "source": [
    "### Tf-idf vectorizer\n",
    "https://scikit-learn.org/stable/modules/feature_extraction.html#text-feature-extraction "
   ]
  },
  {
   "cell_type": "code",
   "execution_count": 17,
   "id": "integral-denver",
   "metadata": {},
   "outputs": [],
   "source": [
    "# create TF-IDF features\n",
    "tfidf_vectorizer = TfidfVectorizer()\n",
    "X_train_tfidf = tfidf_vectorizer.fit_transform(X_train)\n",
    "# For test set, transform into document-term matrix without learning vocabulary dictionary\n",
    "X_test_tfidf = tfidf_vectorizer.transform(X_test)"
   ]
  },
  {
   "cell_type": "code",
   "execution_count": 18,
   "id": "acquired-learning",
   "metadata": {},
   "outputs": [
    {
     "data": {
      "text/plain": [
       "<15434x5235 sparse matrix of type '<class 'numpy.float64'>'\n",
       "\twith 82783 stored elements in Compressed Sparse Row format>"
      ]
     },
     "execution_count": 18,
     "metadata": {},
     "output_type": "execute_result"
    }
   ],
   "source": [
    "X_train_tfidf"
   ]
  },
  {
   "attachments": {},
   "cell_type": "markdown",
   "id": "43e1e4ba",
   "metadata": {},
   "source": [
    "### Performance Metric\n",
    "- F1 score\n",
    "- Hamming Loss"
   ]
  },
  {
   "cell_type": "code",
   "execution_count": 19,
   "id": "0fd17f0a",
   "metadata": {},
   "outputs": [],
   "source": [
    "# Performance metric function\n",
    "import sklearn.metrics as metrics\n",
    "def calculate_metrics(y_test, y_pred):\n",
    "    br_f1=metrics.f1_score(y_test, y_pred, average='micro')\n",
    "    br_hamm=metrics.hamming_loss(y_test,y_pred)\n",
    "    return br_f1, br_hamm\n",
    "\n",
    "def print_metrics(f1, hamm):\n",
    "    print('F1-score:',round(f1,3))\n",
    "    print('Hamming Loss:',round(hamm,3))\n",
    "\n"
   ]
  },
  {
   "attachments": {},
   "cell_type": "markdown",
   "id": "fe9f5d64",
   "metadata": {},
   "source": [
    "## Binary relevance (Updated)\n",
    "Using scikit-multilearn library\n",
    "http://scikit.ml/api/skmultilearn.problem_transform.br.html "
   ]
  },
  {
   "attachments": {},
   "cell_type": "markdown",
   "id": "4522bb4e",
   "metadata": {},
   "source": [
    "Random Forest"
   ]
  },
  {
   "cell_type": "code",
   "execution_count": 20,
   "id": "returning-survival",
   "metadata": {},
   "outputs": [
    {
     "data": {
      "text/plain": [
       "BinaryRelevance(classifier=RandomForestClassifier(),\n",
       "                require_dense=[False, True])"
      ]
     },
     "execution_count": 20,
     "metadata": {},
     "output_type": "execute_result"
    }
   ],
   "source": [
    "from skmultilearn.problem_transform import BinaryRelevance\n",
    "from sklearn.ensemble import RandomForestClassifier\n",
    "\n",
    "classifier_RF = BinaryRelevance(\n",
    "    classifier = RandomForestClassifier(),\n",
    "    require_dense = [False, True]\n",
    ")\n",
    "\n",
    "classifier_RF.fit(X_train_tfidf, y_train)\n"
   ]
  },
  {
   "cell_type": "code",
   "execution_count": 21,
   "id": "ce3edbf8",
   "metadata": {},
   "outputs": [],
   "source": [
    "y_pred = classifier_RF.predict(X_test_tfidf)"
   ]
  },
  {
   "cell_type": "code",
   "execution_count": 22,
   "id": "63f444c7",
   "metadata": {},
   "outputs": [
    {
     "name": "stdout",
     "output_type": "stream",
     "text": [
      "F1-score: 0.5\n",
      "Hamming Loss: 0.096\n"
     ]
    }
   ],
   "source": [
    "RF_f1, RF_hamm = calculate_metrics(y_test, y_pred)\n",
    "print_metrics(RF_f1, RF_hamm)"
   ]
  },
  {
   "attachments": {},
   "cell_type": "markdown",
   "id": "a3f5f31b",
   "metadata": {},
   "source": [
    "SVC"
   ]
  },
  {
   "cell_type": "code",
   "execution_count": 23,
   "id": "f8187c94",
   "metadata": {},
   "outputs": [
    {
     "data": {
      "text/plain": [
       "BinaryRelevance(classifier=SVC(), require_dense=[False, True])"
      ]
     },
     "execution_count": 23,
     "metadata": {},
     "output_type": "execute_result"
    }
   ],
   "source": [
    "from sklearn.svm import SVC\n",
    "\n",
    "classifier_SVC = BinaryRelevance(\n",
    "    classifier = SVC(),\n",
    "    require_dense = [False, True]\n",
    ")\n",
    "\n",
    "classifier_SVC.fit(X_train_tfidf, y_train)"
   ]
  },
  {
   "cell_type": "code",
   "execution_count": 24,
   "id": "12c87e8e",
   "metadata": {},
   "outputs": [],
   "source": [
    "# make predictions for test set\n",
    "y_pred = classifier_SVC.predict(X_test_tfidf)"
   ]
  },
  {
   "cell_type": "code",
   "execution_count": 25,
   "id": "7a8aac22",
   "metadata": {},
   "outputs": [
    {
     "name": "stdout",
     "output_type": "stream",
     "text": [
      "F1-score: 0.483\n",
      "Hamming Loss: 0.091\n"
     ]
    }
   ],
   "source": [
    "SVC_f1, SVC_hamm = calculate_metrics(y_test, y_pred)\n",
    "print_metrics(SVC_f1, SVC_hamm)"
   ]
  },
  {
   "cell_type": "code",
   "execution_count": 26,
   "id": "f2ff7bfa",
   "metadata": {},
   "outputs": [
    {
     "data": {
      "text/plain": [
       "BinaryRelevance(classifier=LogisticRegression(), require_dense=[False, True])"
      ]
     },
     "execution_count": 26,
     "metadata": {},
     "output_type": "execute_result"
    }
   ],
   "source": [
    "# Using other classifiers\n",
    "from sklearn.linear_model import LogisticRegression\n",
    "\n",
    "classifier_LR = BinaryRelevance(\n",
    "    classifier = LogisticRegression(),\n",
    "    require_dense = [False, True]\n",
    ")\n",
    "\n",
    "classifier_LR.fit(X_train_tfidf, y_train)"
   ]
  },
  {
   "cell_type": "code",
   "execution_count": 27,
   "id": "cf728e6f",
   "metadata": {},
   "outputs": [],
   "source": [
    "y_pred = classifier_LR.predict(X_test_tfidf)\n"
   ]
  },
  {
   "cell_type": "code",
   "execution_count": 28,
   "id": "59a25c26",
   "metadata": {},
   "outputs": [
    {
     "name": "stdout",
     "output_type": "stream",
     "text": [
      "F1-score: 0.456\n",
      "Hamming Loss: 0.094\n"
     ]
    }
   ],
   "source": [
    "LR_f1, LR_hamm = calculate_metrics(y_test, y_pred)\n",
    "print_metrics(LR_f1, LR_hamm)"
   ]
  },
  {
   "cell_type": "markdown",
   "id": "centered-despite",
   "metadata": {},
   "source": [
    "## Predict a movie example on test set"
   ]
  },
  {
   "attachments": {},
   "cell_type": "markdown",
   "id": "6bcf5c4a",
   "metadata": {},
   "source": [
    "Application"
   ]
  },
  {
   "cell_type": "code",
   "execution_count": 29,
   "id": "52733574",
   "metadata": {},
   "outputs": [],
   "source": [
    "def infer_tags(q):\n",
    "    q_vec = tfidf_vectorizer.transform([q])\n",
    "    q_pred_RF = classifier_RF.predict(q_vec)\n",
    "    q_pred_SVC = classifier_SVC.predict(q_vec)\n",
    "    q_pred_LR = classifier_LR.predict(q_vec)\n",
    "    return multilabel_binarizer.inverse_transform(q_pred_RF), multilabel_binarizer.inverse_transform(q_pred_SVC), multilabel_binarizer.inverse_transform(q_pred_LR)"
   ]
  },
  {
   "cell_type": "code",
   "execution_count": 202,
   "id": "418e6347",
   "metadata": {},
   "outputs": [
    {
     "name": "stdout",
     "output_type": "stream",
     "text": [
      "Movie:  Rush Hour 2\n",
      "\n",
      "Keywords:  ['martialart','losangeles,california','criminalinvestig','interracialfriendship','buddycop','duringcreditssting','actionhero','goodversusevil']\n",
      "\n",
      "Predicted genre using: \n",
      "Random Forest :  [('Action', 'Comedy', 'Crime')]\n",
      "SVC :  [('Action', 'Comedy', 'Crime')]\n",
      "Logistic Regression :  [('Action', 'Comedy')]\n",
      "Actual genre:  ['Action', 'Comedy', 'Crime'] \n",
      "\n",
      "//////////////////////////////////////////////////////////\n",
      "Movie:  Definitive Jux Presents The Revenge of the Robots\n",
      "\n",
      "Keywords:  ['hip-hop']\n",
      "\n",
      "Predicted genre using: \n",
      "Random Forest :  [('Documentary', 'Music')]\n",
      "SVC :  [('Music',)]\n",
      "Logistic Regression :  [()]\n",
      "Actual genre:  ['Documentary', 'Music'] \n",
      "\n",
      "//////////////////////////////////////////////////////////\n",
      "Movie:  My Name Is Julia Ross\n",
      "\n",
      "Keywords:  ['kidnap','cornwall,england','noir','secretari','mentalil']\n",
      "\n",
      "Predicted genre using: \n",
      "Random Forest :  [('Drama',)]\n",
      "SVC :  [('Drama',)]\n",
      "Logistic Regression :  [('Drama',)]\n",
      "Actual genre:  ['Mystery'] \n",
      "\n",
      "//////////////////////////////////////////////////////////\n"
     ]
    }
   ],
   "source": [
    "for i in range(3):\n",
    "    k = X_test.sample(1).index[0]\n",
    "    RFpredict,SVCpredict, LRpredict  = infer_tags(X_test[k])\n",
    "    print(\"Movie: \", df['title'][k])\n",
    "    print(\"\\nKeywords: \", df['keywords'][k] )\n",
    "    print(\"\\nPredicted genre using: \")\n",
    "    print(\"Random Forest : \",  RFpredict )\n",
    "    print(\"SVC : \",  SVCpredict )\n",
    "    print(\"Logistic Regression : \",  LRpredict )\n",
    "    print(\"Actual genre: \", df['genres'][k], \"\\n\")\n",
    "    print(\"//////////////////////////////////////////////////////////\")"
   ]
  },
  {
   "attachments": {},
   "cell_type": "markdown",
   "id": "statewide-index",
   "metadata": {},
   "source": [
    "## Observation"
   ]
  },
  {
   "cell_type": "code",
   "execution_count": 36,
   "id": "f39ec5c9",
   "metadata": {},
   "outputs": [
    {
     "data": {
      "image/png": "[encoded data removed]",
      "text/plain": [
       "<Figure size 432x288 with 1 Axes>"
      ]
     },
     "metadata": {
      "needs_background": "light"
     },
     "output_type": "display_data"
    }
   ],
   "source": [
    "# Bar plot f1\n",
    "classifiers = ['RandomForest', 'SVC', 'LogisticRegression']\n",
    "f1_group = [RF_f1, SVC_f1, LR_f1]\n",
    "f1_group_round = [ round(x,3) for x in f1_group]\n",
    "hamm_group = [RF_hamm, SVC_hamm, LR_hamm]\n",
    "hamm_group_round = [ round(x,3) for x in hamm_group]\n",
    "x = np.arange(3)\n",
    "\n",
    "fig, ax = plt.subplots()\n",
    "rects1 = ax.bar(x, f1_group_round, width=0.4)\n",
    "\n",
    "ax.set_ylabel('Score')\n",
    "ax.set_title('F1 scores (best value is 1)')\n",
    "ax.set_xticks(x)\n",
    "ax.set_xticklabels(classifiers)\n",
    "ax.bar_label(rects1, label_type='center', padding=3)\n",
    "plt.show()"
   ]
  },
  {
   "cell_type": "code",
   "execution_count": 37,
   "id": "5aa00bd3",
   "metadata": {},
   "outputs": [
    {
     "data": {
      "image/png": "[encoded data removed]",
      "text/plain": [
       "<Figure size 432x288 with 1 Axes>"
      ]
     },
     "metadata": {
      "needs_background": "light"
     },
     "output_type": "display_data"
    }
   ],
   "source": [
    "# barplot Hamming loss\n",
    "fig, ax = plt.subplots()\n",
    "rects2 = ax.bar(x, hamm_group_round, width=0.4)\n",
    "\n",
    "ax.set_ylabel('Score')\n",
    "ax.set_title('Hamming Loss (best value is 0)')\n",
    "ax.set_xticks(x)\n",
    "ax.set_xticklabels(classifiers)\n",
    "ax.bar_label(rects2, label_type='center', padding=3)\n",
    "plt.show()"
   ]
  }
 ],
 "metadata": {
  "kernelspec": {
   "display_name": "base",
   "language": "python",
   "name": "python3"
  },
  "language_info": {
   "codemirror_mode": {
    "name": "ipython",
    "version": 3
   },
   "file_extension": ".py",
   "mimetype": "text/x-python",
   "name": "python",
   "nbconvert_exporter": "python",
   "pygments_lexer": "ipython3",
   "version": "3.8.5"
  },
  "vscode": {
   "interpreter": {
    "hash": "53b6360b3f4bc7e3335c2950c3b512557e626924999e4ec16f0982b04b80832e"
   }
  }
 },
 "nbformat": 4,
 "nbformat_minor": 5
}
