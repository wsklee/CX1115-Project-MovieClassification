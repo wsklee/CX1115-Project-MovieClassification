{
 "cells": [
  {
   "cell_type": "markdown",
   "id": "adopted-proposition",
   "metadata": {},
   "source": [
    "# Data processing for machine learning\n",
    "\n",
    "Code for keyword stemming and low frequency word removal was adapted and modified from FabienDaniel's code\n",
    "https://www.kaggle.com/fabiendaniel/film-recommendation-engine "
   ]
  },
  {
   "cell_type": "code",
   "execution_count": 1,
   "id": "hearing-sight",
   "metadata": {},
   "outputs": [],
   "source": [
    "import numpy as np\n",
    "import pandas as pd\n",
    "import json\n",
    "import seaborn as sb\n",
    "import matplotlib.pyplot as plt\n",
    "csv_file = pd.read_csv('movie_data.csv')\n"
   ]
  },
  {
   "cell_type": "code",
   "execution_count": 2,
   "id": "phantom-edgar",
   "metadata": {},
   "outputs": [
    {
     "data": {
      "text/html": [
       "<div>\n",
       "<style scoped>\n",
       "    .dataframe tbody tr th:only-of-type {\n",
       "        vertical-align: middle;\n",
       "    }\n",
       "\n",
       "    .dataframe tbody tr th {\n",
       "        vertical-align: top;\n",
       "    }\n",
       "\n",
       "    .dataframe thead th {\n",
       "        text-align: right;\n",
       "    }\n",
       "</style>\n",
       "<table border=\"1\" class=\"dataframe\">\n",
       "  <thead>\n",
       "    <tr style=\"text-align: right;\">\n",
       "      <th></th>\n",
       "      <th>budget</th>\n",
       "      <th>genres</th>\n",
       "      <th>id</th>\n",
       "      <th>original_language</th>\n",
       "      <th>original_title</th>\n",
       "      <th>overview</th>\n",
       "      <th>popularity</th>\n",
       "      <th>production_companies</th>\n",
       "      <th>production_countries</th>\n",
       "      <th>release_date</th>\n",
       "      <th>revenue</th>\n",
       "      <th>runtime</th>\n",
       "      <th>spoken_languages</th>\n",
       "      <th>status</th>\n",
       "      <th>tagline</th>\n",
       "      <th>title</th>\n",
       "      <th>vote_average</th>\n",
       "      <th>vote_count</th>\n",
       "      <th>keywords</th>\n",
       "    </tr>\n",
       "  </thead>\n",
       "  <tbody>\n",
       "    <tr>\n",
       "      <th>0</th>\n",
       "      <td>0</td>\n",
       "      <td>[{\"id\": 35, \"name\": \"Comedy\"}]</td>\n",
       "      <td>3924</td>\n",
       "      <td>en</td>\n",
       "      <td>Blondie</td>\n",
       "      <td>Blondie and Dagwood are about to celebrate the...</td>\n",
       "      <td>4.074</td>\n",
       "      <td>[{\"id\": 5, \"logo_path\": \"/71BqEFAF4V3qjjMPCpLu...</td>\n",
       "      <td>[{\"iso_3166_1\": \"US\", \"name\": \"United States o...</td>\n",
       "      <td>1938-11-30</td>\n",
       "      <td>0</td>\n",
       "      <td>70.0</td>\n",
       "      <td>[{\"english_name\": \"English\", \"iso_639_1\": \"en\"...</td>\n",
       "      <td>Released</td>\n",
       "      <td>NaN</td>\n",
       "      <td>Blondie</td>\n",
       "      <td>7.1</td>\n",
       "      <td>5</td>\n",
       "      <td>[{\"id\": 190801, \"name\": \"blondie\"}]</td>\n",
       "    </tr>\n",
       "    <tr>\n",
       "      <th>1</th>\n",
       "      <td>0</td>\n",
       "      <td>[]</td>\n",
       "      <td>25449</td>\n",
       "      <td>en</td>\n",
       "      <td>New World Disorder 9: Never Enough</td>\n",
       "      <td>Gee Atherton ripping the Worlds course the day...</td>\n",
       "      <td>1.968</td>\n",
       "      <td>[]</td>\n",
       "      <td>[]</td>\n",
       "      <td>2008-12-08</td>\n",
       "      <td>0</td>\n",
       "      <td>69.0</td>\n",
       "      <td>[{\"english_name\": \"English\", \"iso_639_1\": \"en\"...</td>\n",
       "      <td>Released</td>\n",
       "      <td>NaN</td>\n",
       "      <td>New World Disorder 9: Never Enough</td>\n",
       "      <td>4.5</td>\n",
       "      <td>2</td>\n",
       "      <td>[{\"id\": 6075, \"name\": \"sports\"}, {\"id\": 10192,...</td>\n",
       "    </tr>\n",
       "    <tr>\n",
       "      <th>2</th>\n",
       "      <td>0</td>\n",
       "      <td>[{\"id\": 10751, \"name\": \"Family\"}]</td>\n",
       "      <td>31975</td>\n",
       "      <td>en</td>\n",
       "      <td>Sesame Street: Elmo Loves You!</td>\n",
       "      <td>Elmo is making a very, very super special surp...</td>\n",
       "      <td>1.174</td>\n",
       "      <td>[]</td>\n",
       "      <td>[]</td>\n",
       "      <td>2010-01-05</td>\n",
       "      <td>0</td>\n",
       "      <td>46.0</td>\n",
       "      <td>[]</td>\n",
       "      <td>Released</td>\n",
       "      <td>NaN</td>\n",
       "      <td>Sesame Street: Elmo Loves You!</td>\n",
       "      <td>0.0</td>\n",
       "      <td>0</td>\n",
       "      <td>[]</td>\n",
       "    </tr>\n",
       "    <tr>\n",
       "      <th>3</th>\n",
       "      <td>4000000</td>\n",
       "      <td>[{\"id\": 80, \"name\": \"Crime\"}, {\"id\": 35, \"name...</td>\n",
       "      <td>5</td>\n",
       "      <td>en</td>\n",
       "      <td>Four Rooms</td>\n",
       "      <td>It's Ted the Bellhop's first night on the job....</td>\n",
       "      <td>11.574</td>\n",
       "      <td>[{\"id\": 14, \"logo_path\": \"/m6AHu84oZQxvq7n1rsv...</td>\n",
       "      <td>[{\"iso_3166_1\": \"US\", \"name\": \"United States o...</td>\n",
       "      <td>1995-12-09</td>\n",
       "      <td>4257354</td>\n",
       "      <td>98.0</td>\n",
       "      <td>[{\"english_name\": \"English\", \"iso_639_1\": \"en\"...</td>\n",
       "      <td>Released</td>\n",
       "      <td>Twelve outrageous guests. Four scandalous requ...</td>\n",
       "      <td>Four Rooms</td>\n",
       "      <td>5.7</td>\n",
       "      <td>1919</td>\n",
       "      <td>[{\"id\": 612, \"name\": \"hotel\"}, {\"id\": 613, \"na...</td>\n",
       "    </tr>\n",
       "    <tr>\n",
       "      <th>4</th>\n",
       "      <td>21000000</td>\n",
       "      <td>[{\"id\": 28, \"name\": \"Action\"}, {\"id\": 53, \"nam...</td>\n",
       "      <td>6</td>\n",
       "      <td>en</td>\n",
       "      <td>Judgment Night</td>\n",
       "      <td>While racing to a boxing match, Frank, Mike, J...</td>\n",
       "      <td>9.880</td>\n",
       "      <td>[{\"id\": 33, \"logo_path\": \"/8lvHyhjr8oUKOOy2dKX...</td>\n",
       "      <td>[{\"iso_3166_1\": \"JP\", \"name\": \"Japan\"}, {\"iso_...</td>\n",
       "      <td>1993-10-15</td>\n",
       "      <td>12136938</td>\n",
       "      <td>110.0</td>\n",
       "      <td>[{\"english_name\": \"English\", \"iso_639_1\": \"en\"...</td>\n",
       "      <td>Released</td>\n",
       "      <td>Don't move. Don't whisper. Don't even breathe.</td>\n",
       "      <td>Judgment Night</td>\n",
       "      <td>6.4</td>\n",
       "      <td>186</td>\n",
       "      <td>[{\"id\": 520, \"name\": \"chicago, illinois\"}, {\"i...</td>\n",
       "    </tr>\n",
       "  </tbody>\n",
       "</table>\n",
       "</div>"
      ],
      "text/plain": [
       "     budget                                             genres     id  \\\n",
       "0         0                     [{\"id\": 35, \"name\": \"Comedy\"}]   3924   \n",
       "1         0                                                 []  25449   \n",
       "2         0                  [{\"id\": 10751, \"name\": \"Family\"}]  31975   \n",
       "3   4000000  [{\"id\": 80, \"name\": \"Crime\"}, {\"id\": 35, \"name...      5   \n",
       "4  21000000  [{\"id\": 28, \"name\": \"Action\"}, {\"id\": 53, \"nam...      6   \n",
       "\n",
       "  original_language                      original_title  \\\n",
       "0                en                             Blondie   \n",
       "1                en  New World Disorder 9: Never Enough   \n",
       "2                en      Sesame Street: Elmo Loves You!   \n",
       "3                en                          Four Rooms   \n",
       "4                en                      Judgment Night   \n",
       "\n",
       "                                            overview  popularity  \\\n",
       "0  Blondie and Dagwood are about to celebrate the...       4.074   \n",
       "1  Gee Atherton ripping the Worlds course the day...       1.968   \n",
       "2  Elmo is making a very, very super special surp...       1.174   \n",
       "3  It's Ted the Bellhop's first night on the job....      11.574   \n",
       "4  While racing to a boxing match, Frank, Mike, J...       9.880   \n",
       "\n",
       "                                production_companies  \\\n",
       "0  [{\"id\": 5, \"logo_path\": \"/71BqEFAF4V3qjjMPCpLu...   \n",
       "1                                                 []   \n",
       "2                                                 []   \n",
       "3  [{\"id\": 14, \"logo_path\": \"/m6AHu84oZQxvq7n1rsv...   \n",
       "4  [{\"id\": 33, \"logo_path\": \"/8lvHyhjr8oUKOOy2dKX...   \n",
       "\n",
       "                                production_countries release_date   revenue  \\\n",
       "0  [{\"iso_3166_1\": \"US\", \"name\": \"United States o...   1938-11-30         0   \n",
       "1                                                 []   2008-12-08         0   \n",
       "2                                                 []   2010-01-05         0   \n",
       "3  [{\"iso_3166_1\": \"US\", \"name\": \"United States o...   1995-12-09   4257354   \n",
       "4  [{\"iso_3166_1\": \"JP\", \"name\": \"Japan\"}, {\"iso_...   1993-10-15  12136938   \n",
       "\n",
       "   runtime                                   spoken_languages    status  \\\n",
       "0     70.0  [{\"english_name\": \"English\", \"iso_639_1\": \"en\"...  Released   \n",
       "1     69.0  [{\"english_name\": \"English\", \"iso_639_1\": \"en\"...  Released   \n",
       "2     46.0                                                 []  Released   \n",
       "3     98.0  [{\"english_name\": \"English\", \"iso_639_1\": \"en\"...  Released   \n",
       "4    110.0  [{\"english_name\": \"English\", \"iso_639_1\": \"en\"...  Released   \n",
       "\n",
       "                                             tagline  \\\n",
       "0                                                NaN   \n",
       "1                                                NaN   \n",
       "2                                                NaN   \n",
       "3  Twelve outrageous guests. Four scandalous requ...   \n",
       "4     Don't move. Don't whisper. Don't even breathe.   \n",
       "\n",
       "                                title  vote_average  vote_count  \\\n",
       "0                             Blondie           7.1           5   \n",
       "1  New World Disorder 9: Never Enough           4.5           2   \n",
       "2      Sesame Street: Elmo Loves You!           0.0           0   \n",
       "3                          Four Rooms           5.7        1919   \n",
       "4                      Judgment Night           6.4         186   \n",
       "\n",
       "                                            keywords  \n",
       "0                [{\"id\": 190801, \"name\": \"blondie\"}]  \n",
       "1  [{\"id\": 6075, \"name\": \"sports\"}, {\"id\": 10192,...  \n",
       "2                                                 []  \n",
       "3  [{\"id\": 612, \"name\": \"hotel\"}, {\"id\": 613, \"na...  \n",
       "4  [{\"id\": 520, \"name\": \"chicago, illinois\"}, {\"i...  "
      ]
     },
     "execution_count": 2,
     "metadata": {},
     "output_type": "execute_result"
    }
   ],
   "source": [
    "csv_file.head()"
   ]
  },
  {
   "cell_type": "markdown",
   "id": "illegal-submission",
   "metadata": {},
   "source": [
    "# Drop all other columns. Leave only title, id, genres and keywords"
   ]
  },
  {
   "cell_type": "code",
   "execution_count": 3,
   "id": "weird-pricing",
   "metadata": {},
   "outputs": [],
   "source": [
    "df = csv_file[['title','id','genres','keywords']]"
   ]
  },
  {
   "cell_type": "code",
   "execution_count": 4,
   "id": "latin-accent",
   "metadata": {},
   "outputs": [
    {
     "data": {
      "text/html": [
       "<div>\n",
       "<style scoped>\n",
       "    .dataframe tbody tr th:only-of-type {\n",
       "        vertical-align: middle;\n",
       "    }\n",
       "\n",
       "    .dataframe tbody tr th {\n",
       "        vertical-align: top;\n",
       "    }\n",
       "\n",
       "    .dataframe thead th {\n",
       "        text-align: right;\n",
       "    }\n",
       "</style>\n",
       "<table border=\"1\" class=\"dataframe\">\n",
       "  <thead>\n",
       "    <tr style=\"text-align: right;\">\n",
       "      <th></th>\n",
       "      <th>title</th>\n",
       "      <th>id</th>\n",
       "      <th>genres</th>\n",
       "      <th>keywords</th>\n",
       "    </tr>\n",
       "  </thead>\n",
       "  <tbody>\n",
       "    <tr>\n",
       "      <th>0</th>\n",
       "      <td>Blondie</td>\n",
       "      <td>3924</td>\n",
       "      <td>[{\"id\": 35, \"name\": \"Comedy\"}]</td>\n",
       "      <td>[{\"id\": 190801, \"name\": \"blondie\"}]</td>\n",
       "    </tr>\n",
       "    <tr>\n",
       "      <th>1</th>\n",
       "      <td>New World Disorder 9: Never Enough</td>\n",
       "      <td>25449</td>\n",
       "      <td>[]</td>\n",
       "      <td>[{\"id\": 6075, \"name\": \"sports\"}, {\"id\": 10192,...</td>\n",
       "    </tr>\n",
       "    <tr>\n",
       "      <th>2</th>\n",
       "      <td>Sesame Street: Elmo Loves You!</td>\n",
       "      <td>31975</td>\n",
       "      <td>[{\"id\": 10751, \"name\": \"Family\"}]</td>\n",
       "      <td>[]</td>\n",
       "    </tr>\n",
       "    <tr>\n",
       "      <th>3</th>\n",
       "      <td>Four Rooms</td>\n",
       "      <td>5</td>\n",
       "      <td>[{\"id\": 80, \"name\": \"Crime\"}, {\"id\": 35, \"name...</td>\n",
       "      <td>[{\"id\": 612, \"name\": \"hotel\"}, {\"id\": 613, \"na...</td>\n",
       "    </tr>\n",
       "    <tr>\n",
       "      <th>4</th>\n",
       "      <td>Judgment Night</td>\n",
       "      <td>6</td>\n",
       "      <td>[{\"id\": 28, \"name\": \"Action\"}, {\"id\": 53, \"nam...</td>\n",
       "      <td>[{\"id\": 520, \"name\": \"chicago, illinois\"}, {\"i...</td>\n",
       "    </tr>\n",
       "  </tbody>\n",
       "</table>\n",
       "</div>"
      ],
      "text/plain": [
       "                                title     id  \\\n",
       "0                             Blondie   3924   \n",
       "1  New World Disorder 9: Never Enough  25449   \n",
       "2      Sesame Street: Elmo Loves You!  31975   \n",
       "3                          Four Rooms      5   \n",
       "4                      Judgment Night      6   \n",
       "\n",
       "                                              genres  \\\n",
       "0                     [{\"id\": 35, \"name\": \"Comedy\"}]   \n",
       "1                                                 []   \n",
       "2                  [{\"id\": 10751, \"name\": \"Family\"}]   \n",
       "3  [{\"id\": 80, \"name\": \"Crime\"}, {\"id\": 35, \"name...   \n",
       "4  [{\"id\": 28, \"name\": \"Action\"}, {\"id\": 53, \"nam...   \n",
       "\n",
       "                                            keywords  \n",
       "0                [{\"id\": 190801, \"name\": \"blondie\"}]  \n",
       "1  [{\"id\": 6075, \"name\": \"sports\"}, {\"id\": 10192,...  \n",
       "2                                                 []  \n",
       "3  [{\"id\": 612, \"name\": \"hotel\"}, {\"id\": 613, \"na...  \n",
       "4  [{\"id\": 520, \"name\": \"chicago, illinois\"}, {\"i...  "
      ]
     },
     "execution_count": 4,
     "metadata": {},
     "output_type": "execute_result"
    }
   ],
   "source": [
    "df.head()"
   ]
  },
  {
   "cell_type": "code",
   "execution_count": 5,
   "id": "distinguished-agent",
   "metadata": {},
   "outputs": [
    {
     "data": {
      "text/plain": [
       "(28436, 4)"
      ]
     },
     "execution_count": 5,
     "metadata": {},
     "output_type": "execute_result"
    }
   ],
   "source": [
    "df.shape"
   ]
  },
  {
   "cell_type": "markdown",
   "id": "hired-chrome",
   "metadata": {},
   "source": [
    "# Clear rows with missing genres or keywords\n",
    "There are some movies with missing genres and keywords"
   ]
  },
  {
   "cell_type": "code",
   "execution_count": 6,
   "id": "graduate-studio",
   "metadata": {},
   "outputs": [],
   "source": [
    "df = df.loc[(df['genres']!='[]') & (df['keywords']!='[]')]"
   ]
  },
  {
   "cell_type": "code",
   "execution_count": 7,
   "id": "bound-hypothesis",
   "metadata": {},
   "outputs": [
    {
     "data": {
      "text/html": [
       "<div>\n",
       "<style scoped>\n",
       "    .dataframe tbody tr th:only-of-type {\n",
       "        vertical-align: middle;\n",
       "    }\n",
       "\n",
       "    .dataframe tbody tr th {\n",
       "        vertical-align: top;\n",
       "    }\n",
       "\n",
       "    .dataframe thead th {\n",
       "        text-align: right;\n",
       "    }\n",
       "</style>\n",
       "<table border=\"1\" class=\"dataframe\">\n",
       "  <thead>\n",
       "    <tr style=\"text-align: right;\">\n",
       "      <th></th>\n",
       "      <th>title</th>\n",
       "      <th>id</th>\n",
       "      <th>genres</th>\n",
       "      <th>keywords</th>\n",
       "    </tr>\n",
       "  </thead>\n",
       "  <tbody>\n",
       "    <tr>\n",
       "      <th>0</th>\n",
       "      <td>Blondie</td>\n",
       "      <td>3924</td>\n",
       "      <td>[{\"id\": 35, \"name\": \"Comedy\"}]</td>\n",
       "      <td>[{\"id\": 190801, \"name\": \"blondie\"}]</td>\n",
       "    </tr>\n",
       "    <tr>\n",
       "      <th>3</th>\n",
       "      <td>Four Rooms</td>\n",
       "      <td>5</td>\n",
       "      <td>[{\"id\": 80, \"name\": \"Crime\"}, {\"id\": 35, \"name...</td>\n",
       "      <td>[{\"id\": 612, \"name\": \"hotel\"}, {\"id\": 613, \"na...</td>\n",
       "    </tr>\n",
       "    <tr>\n",
       "      <th>4</th>\n",
       "      <td>Judgment Night</td>\n",
       "      <td>6</td>\n",
       "      <td>[{\"id\": 28, \"name\": \"Action\"}, {\"id\": 53, \"nam...</td>\n",
       "      <td>[{\"id\": 520, \"name\": \"chicago, illinois\"}, {\"i...</td>\n",
       "    </tr>\n",
       "    <tr>\n",
       "      <th>5</th>\n",
       "      <td>Life in Loops (A Megacities RMX)</td>\n",
       "      <td>8</td>\n",
       "      <td>[{\"id\": 99, \"name\": \"Documentary\"}]</td>\n",
       "      <td>[{\"id\": 215272, \"name\": \"megacities\"}]</td>\n",
       "    </tr>\n",
       "    <tr>\n",
       "      <th>6</th>\n",
       "      <td>Star Wars</td>\n",
       "      <td>11</td>\n",
       "      <td>[{\"id\": 12, \"name\": \"Adventure\"}, {\"id\": 28, \"...</td>\n",
       "      <td>[{\"id\": 803, \"name\": \"android\"}, {\"id\": 4270, ...</td>\n",
       "    </tr>\n",
       "  </tbody>\n",
       "</table>\n",
       "</div>"
      ],
      "text/plain": [
       "                              title    id  \\\n",
       "0                           Blondie  3924   \n",
       "3                        Four Rooms     5   \n",
       "4                    Judgment Night     6   \n",
       "5  Life in Loops (A Megacities RMX)     8   \n",
       "6                         Star Wars    11   \n",
       "\n",
       "                                              genres  \\\n",
       "0                     [{\"id\": 35, \"name\": \"Comedy\"}]   \n",
       "3  [{\"id\": 80, \"name\": \"Crime\"}, {\"id\": 35, \"name...   \n",
       "4  [{\"id\": 28, \"name\": \"Action\"}, {\"id\": 53, \"nam...   \n",
       "5                [{\"id\": 99, \"name\": \"Documentary\"}]   \n",
       "6  [{\"id\": 12, \"name\": \"Adventure\"}, {\"id\": 28, \"...   \n",
       "\n",
       "                                            keywords  \n",
       "0                [{\"id\": 190801, \"name\": \"blondie\"}]  \n",
       "3  [{\"id\": 612, \"name\": \"hotel\"}, {\"id\": 613, \"na...  \n",
       "4  [{\"id\": 520, \"name\": \"chicago, illinois\"}, {\"i...  \n",
       "5             [{\"id\": 215272, \"name\": \"megacities\"}]  \n",
       "6  [{\"id\": 803, \"name\": \"android\"}, {\"id\": 4270, ...  "
      ]
     },
     "execution_count": 7,
     "metadata": {},
     "output_type": "execute_result"
    }
   ],
   "source": [
    "df.head()"
   ]
  },
  {
   "cell_type": "code",
   "execution_count": 8,
   "id": "stylish-citizenship",
   "metadata": {},
   "outputs": [
    {
     "data": {
      "text/plain": [
       "(19593, 4)"
      ]
     },
     "execution_count": 8,
     "metadata": {},
     "output_type": "execute_result"
    }
   ],
   "source": [
    "df.shape"
   ]
  },
  {
   "cell_type": "markdown",
   "id": "proper-practitioner",
   "metadata": {},
   "source": [
    "No missing data."
   ]
  },
  {
   "cell_type": "markdown",
   "id": "mediterranean-canyon",
   "metadata": {},
   "source": [
    "# Clean the data. Make it more readable"
   ]
  },
  {
   "cell_type": "code",
   "execution_count": 9,
   "id": "signed-difficulty",
   "metadata": {},
   "outputs": [],
   "source": [
    "from ast import literal_eval\n",
    "df['genres'] = df['genres'].apply(literal_eval).apply(lambda x: [i['name'] for i in x] \n",
    "                                                                   if isinstance(x, list) else [])"
   ]
  },
  {
   "cell_type": "code",
   "execution_count": 10,
   "id": "statistical-cornell",
   "metadata": {},
   "outputs": [
    {
     "data": {
      "text/html": [
       "<div>\n",
       "<style scoped>\n",
       "    .dataframe tbody tr th:only-of-type {\n",
       "        vertical-align: middle;\n",
       "    }\n",
       "\n",
       "    .dataframe tbody tr th {\n",
       "        vertical-align: top;\n",
       "    }\n",
       "\n",
       "    .dataframe thead th {\n",
       "        text-align: right;\n",
       "    }\n",
       "</style>\n",
       "<table border=\"1\" class=\"dataframe\">\n",
       "  <thead>\n",
       "    <tr style=\"text-align: right;\">\n",
       "      <th></th>\n",
       "      <th>title</th>\n",
       "      <th>id</th>\n",
       "      <th>genres</th>\n",
       "      <th>keywords</th>\n",
       "    </tr>\n",
       "  </thead>\n",
       "  <tbody>\n",
       "    <tr>\n",
       "      <th>0</th>\n",
       "      <td>Blondie</td>\n",
       "      <td>3924</td>\n",
       "      <td>[Comedy]</td>\n",
       "      <td>[{\"id\": 190801, \"name\": \"blondie\"}]</td>\n",
       "    </tr>\n",
       "    <tr>\n",
       "      <th>3</th>\n",
       "      <td>Four Rooms</td>\n",
       "      <td>5</td>\n",
       "      <td>[Crime, Comedy]</td>\n",
       "      <td>[{\"id\": 612, \"name\": \"hotel\"}, {\"id\": 613, \"na...</td>\n",
       "    </tr>\n",
       "    <tr>\n",
       "      <th>4</th>\n",
       "      <td>Judgment Night</td>\n",
       "      <td>6</td>\n",
       "      <td>[Action, Thriller, Crime]</td>\n",
       "      <td>[{\"id\": 520, \"name\": \"chicago, illinois\"}, {\"i...</td>\n",
       "    </tr>\n",
       "    <tr>\n",
       "      <th>5</th>\n",
       "      <td>Life in Loops (A Megacities RMX)</td>\n",
       "      <td>8</td>\n",
       "      <td>[Documentary]</td>\n",
       "      <td>[{\"id\": 215272, \"name\": \"megacities\"}]</td>\n",
       "    </tr>\n",
       "    <tr>\n",
       "      <th>6</th>\n",
       "      <td>Star Wars</td>\n",
       "      <td>11</td>\n",
       "      <td>[Adventure, Action, Science Fiction]</td>\n",
       "      <td>[{\"id\": 803, \"name\": \"android\"}, {\"id\": 4270, ...</td>\n",
       "    </tr>\n",
       "  </tbody>\n",
       "</table>\n",
       "</div>"
      ],
      "text/plain": [
       "                              title    id  \\\n",
       "0                           Blondie  3924   \n",
       "3                        Four Rooms     5   \n",
       "4                    Judgment Night     6   \n",
       "5  Life in Loops (A Megacities RMX)     8   \n",
       "6                         Star Wars    11   \n",
       "\n",
       "                                 genres  \\\n",
       "0                              [Comedy]   \n",
       "3                       [Crime, Comedy]   \n",
       "4             [Action, Thriller, Crime]   \n",
       "5                         [Documentary]   \n",
       "6  [Adventure, Action, Science Fiction]   \n",
       "\n",
       "                                            keywords  \n",
       "0                [{\"id\": 190801, \"name\": \"blondie\"}]  \n",
       "3  [{\"id\": 612, \"name\": \"hotel\"}, {\"id\": 613, \"na...  \n",
       "4  [{\"id\": 520, \"name\": \"chicago, illinois\"}, {\"i...  \n",
       "5             [{\"id\": 215272, \"name\": \"megacities\"}]  \n",
       "6  [{\"id\": 803, \"name\": \"android\"}, {\"id\": 4270, ...  "
      ]
     },
     "execution_count": 10,
     "metadata": {},
     "output_type": "execute_result"
    }
   ],
   "source": [
    "df.head()"
   ]
  },
  {
   "cell_type": "code",
   "execution_count": 11,
   "id": "wrong-vulnerability",
   "metadata": {},
   "outputs": [],
   "source": [
    "from ast import literal_eval\n",
    "df['keywords'] = df['keywords'].apply(literal_eval).apply(lambda x: [i['name'] for i in x] \n",
    "                                                                   if isinstance(x, list) else [])"
   ]
  },
  {
   "cell_type": "code",
   "execution_count": 12,
   "id": "sunset-crime",
   "metadata": {},
   "outputs": [
    {
     "data": {
      "text/html": [
       "<div>\n",
       "<style scoped>\n",
       "    .dataframe tbody tr th:only-of-type {\n",
       "        vertical-align: middle;\n",
       "    }\n",
       "\n",
       "    .dataframe tbody tr th {\n",
       "        vertical-align: top;\n",
       "    }\n",
       "\n",
       "    .dataframe thead th {\n",
       "        text-align: right;\n",
       "    }\n",
       "</style>\n",
       "<table border=\"1\" class=\"dataframe\">\n",
       "  <thead>\n",
       "    <tr style=\"text-align: right;\">\n",
       "      <th></th>\n",
       "      <th>title</th>\n",
       "      <th>id</th>\n",
       "      <th>genres</th>\n",
       "      <th>keywords</th>\n",
       "    </tr>\n",
       "  </thead>\n",
       "  <tbody>\n",
       "    <tr>\n",
       "      <th>0</th>\n",
       "      <td>Blondie</td>\n",
       "      <td>3924</td>\n",
       "      <td>[Comedy]</td>\n",
       "      <td>[blondie]</td>\n",
       "    </tr>\n",
       "    <tr>\n",
       "      <th>3</th>\n",
       "      <td>Four Rooms</td>\n",
       "      <td>5</td>\n",
       "      <td>[Crime, Comedy]</td>\n",
       "      <td>[hotel, new year's eve, witch, bet, hotel room...</td>\n",
       "    </tr>\n",
       "    <tr>\n",
       "      <th>4</th>\n",
       "      <td>Judgment Night</td>\n",
       "      <td>6</td>\n",
       "      <td>[Action, Thriller, Crime]</td>\n",
       "      <td>[chicago, illinois, drug dealer, escape, one n...</td>\n",
       "    </tr>\n",
       "    <tr>\n",
       "      <th>5</th>\n",
       "      <td>Life in Loops (A Megacities RMX)</td>\n",
       "      <td>8</td>\n",
       "      <td>[Documentary]</td>\n",
       "      <td>[megacities]</td>\n",
       "    </tr>\n",
       "    <tr>\n",
       "      <th>6</th>\n",
       "      <td>Star Wars</td>\n",
       "      <td>11</td>\n",
       "      <td>[Adventure, Action, Science Fiction]</td>\n",
       "      <td>[android, galaxy, hermit, death star, lightsab...</td>\n",
       "    </tr>\n",
       "  </tbody>\n",
       "</table>\n",
       "</div>"
      ],
      "text/plain": [
       "                              title    id  \\\n",
       "0                           Blondie  3924   \n",
       "3                        Four Rooms     5   \n",
       "4                    Judgment Night     6   \n",
       "5  Life in Loops (A Megacities RMX)     8   \n",
       "6                         Star Wars    11   \n",
       "\n",
       "                                 genres  \\\n",
       "0                              [Comedy]   \n",
       "3                       [Crime, Comedy]   \n",
       "4             [Action, Thriller, Crime]   \n",
       "5                         [Documentary]   \n",
       "6  [Adventure, Action, Science Fiction]   \n",
       "\n",
       "                                            keywords  \n",
       "0                                          [blondie]  \n",
       "3  [hotel, new year's eve, witch, bet, hotel room...  \n",
       "4  [chicago, illinois, drug dealer, escape, one n...  \n",
       "5                                       [megacities]  \n",
       "6  [android, galaxy, hermit, death star, lightsab...  "
      ]
     },
     "execution_count": 12,
     "metadata": {},
     "output_type": "execute_result"
    }
   ],
   "source": [
    "df.head()"
   ]
  },
  {
   "cell_type": "markdown",
   "id": "olympic-strike",
   "metadata": {},
   "source": [
    "# Import nltk"
   ]
  },
  {
   "cell_type": "code",
   "execution_count": 13,
   "id": "harmful-delta",
   "metadata": {},
   "outputs": [],
   "source": [
    "import nltk"
   ]
  },
  {
   "cell_type": "code",
   "execution_count": 14,
   "id": "together-tyler",
   "metadata": {},
   "outputs": [],
   "source": [
    "# Collect the unique keywords by stemming\n",
    "#----------------------\n",
    "def keywords_inventory(dataframe, column = 'keywords'):\n",
    "    PS = nltk.stem.PorterStemmer()\n",
    "    keywords_roots  = dict()  # collect the words / root\n",
    "    keywords_select = dict()  # association: root <-> keyword\n",
    "    category_keys = []\n",
    "    icount = 0\n",
    "    for s in dataframe[column]:\n",
    "        for t in s:\n",
    "            t = t.lower() ; stemWord = PS.stem(t)\n",
    "            if stemWord in keywords_roots:    # add in t into already existing set            \n",
    "                keywords_roots[stemWord].add(t)\n",
    "            else:\n",
    "                keywords_roots[stemWord] = {t} #Create new key = stemWord;value = t\n",
    "    \n",
    "    for s in keywords_roots.keys():\n",
    "        if len(keywords_roots[s]) > 1:  # More than 1 value\n",
    "            min_length = 1000\n",
    "            for k in keywords_roots[s]:\n",
    "                if len(k) < min_length:\n",
    "                    clef = k ; min_length = len(k)            \n",
    "            category_keys.append(clef)\n",
    "            keywords_select[s] = clef\n",
    "        else: # Only 1 value\n",
    "            category_keys.append(list(keywords_roots[s])[0])\n",
    "            keywords_select[s] = list(keywords_roots[s])[0]\n",
    "                   \n",
    "    print(\"Number of keywords in variable '{}': {}\".format(column,len(category_keys)))\n",
    "    return category_keys, keywords_roots, keywords_select"
   ]
  },
  {
   "cell_type": "code",
   "execution_count": 15,
   "id": "large-testing",
   "metadata": {},
   "outputs": [
    {
     "name": "stdout",
     "output_type": "stream",
     "text": [
      "Number of keywords in variable 'keywords': 15470\n"
     ]
    }
   ],
   "source": [
    "keywords, keywords_roots, keywords_select = keywords_inventory(df, column = 'keywords')"
   ]
  },
  {
   "cell_type": "code",
   "execution_count": null,
   "id": "incorporate-ultimate",
   "metadata": {},
   "outputs": [],
   "source": [
    "# Plot of a sample of keywords that appear in close varieties \n",
    "#------------------------------------------------------------\n",
    "icount = 0\n",
    "for s in keywords_roots.keys():\n",
    "    if len(keywords_roots[s]) > 1: \n",
    "        icount += 1\n",
    "        if icount < 50: print(icount, keywords_roots[s], len(keywords_roots[s]))"
   ]
  },
  {
   "cell_type": "markdown",
   "id": "intelligent-administration",
   "metadata": {},
   "source": [
    "# Replace duplicate keywords\n",
    "\n",
    "For words of same group like 'gunfight' and 'gunfighter', the root word 'gunfight' is used"
   ]
  },
  {
   "cell_type": "code",
   "execution_count": 17,
   "id": "numerous-router",
   "metadata": {},
   "outputs": [],
   "source": [
    "# Replacement of the keywords by the main form\n",
    "#----------------------------------------------\n",
    "def remplacement_df_keywords(df, remplacement, roots = False):\n",
    "    PS = nltk.stem.PorterStemmer()\n",
    "    df_new = df.copy(deep = True)\n",
    "    for index, row in df_new.iterrows():\n",
    "        chain = row['keywords']\n",
    "        new_list = []\n",
    "        for s in chain: \n",
    "            clef = PS.stem(s) if roots else s\n",
    "            if clef in remplacement.keys():\n",
    "                new_list.append(clef)\n",
    "                print(s, ' is changed to ', clef)\n",
    "            else:\n",
    "                new_list.append(s)\n",
    "        df_new.at[index,\"keywords\"] = new_list\n",
    "    return df_new"
   ]
  },
  {
   "cell_type": "code",
   "execution_count": null,
   "id": "worthy-recovery",
   "metadata": {},
   "outputs": [],
   "source": [
    "# Replacement of the keywords by the main keyword\n",
    "#-------------------------------------------------\n",
    "df_keywords_cleaned = remplacement_df_keywords(df, keywords_select,\n",
    "                                               roots = True)"
   ]
  },
  {
   "cell_type": "code",
   "execution_count": 19,
   "id": "dated-summer",
   "metadata": {
    "scrolled": true
   },
   "outputs": [
    {
     "data": {
      "text/html": [
       "<div>\n",
       "<style scoped>\n",
       "    .dataframe tbody tr th:only-of-type {\n",
       "        vertical-align: middle;\n",
       "    }\n",
       "\n",
       "    .dataframe tbody tr th {\n",
       "        vertical-align: top;\n",
       "    }\n",
       "\n",
       "    .dataframe thead th {\n",
       "        text-align: right;\n",
       "    }\n",
       "</style>\n",
       "<table border=\"1\" class=\"dataframe\">\n",
       "  <thead>\n",
       "    <tr style=\"text-align: right;\">\n",
       "      <th></th>\n",
       "      <th>title</th>\n",
       "      <th>id</th>\n",
       "      <th>genres</th>\n",
       "      <th>keywords</th>\n",
       "    </tr>\n",
       "  </thead>\n",
       "  <tbody>\n",
       "    <tr>\n",
       "      <th>0</th>\n",
       "      <td>Blondie</td>\n",
       "      <td>3924</td>\n",
       "      <td>[Comedy]</td>\n",
       "      <td>[blondi]</td>\n",
       "    </tr>\n",
       "    <tr>\n",
       "      <th>3</th>\n",
       "      <td>Four Rooms</td>\n",
       "      <td>5</td>\n",
       "      <td>[Crime, Comedy]</td>\n",
       "      <td>[hotel, new year's ev, witch, bet, hotel room,...</td>\n",
       "    </tr>\n",
       "    <tr>\n",
       "      <th>4</th>\n",
       "      <td>Judgment Night</td>\n",
       "      <td>6</td>\n",
       "      <td>[Action, Thriller, Crime]</td>\n",
       "      <td>[chicago, illinoi, drug deal, escap, one night...</td>\n",
       "    </tr>\n",
       "    <tr>\n",
       "      <th>5</th>\n",
       "      <td>Life in Loops (A Megacities RMX)</td>\n",
       "      <td>8</td>\n",
       "      <td>[Documentary]</td>\n",
       "      <td>[megac]</td>\n",
       "    </tr>\n",
       "    <tr>\n",
       "      <th>6</th>\n",
       "      <td>Star Wars</td>\n",
       "      <td>11</td>\n",
       "      <td>[Adventure, Action, Science Fiction]</td>\n",
       "      <td>[android, galaxi, hermit, death star, lightsab...</td>\n",
       "    </tr>\n",
       "  </tbody>\n",
       "</table>\n",
       "</div>"
      ],
      "text/plain": [
       "                              title    id  \\\n",
       "0                           Blondie  3924   \n",
       "3                        Four Rooms     5   \n",
       "4                    Judgment Night     6   \n",
       "5  Life in Loops (A Megacities RMX)     8   \n",
       "6                         Star Wars    11   \n",
       "\n",
       "                                 genres  \\\n",
       "0                              [Comedy]   \n",
       "3                       [Crime, Comedy]   \n",
       "4             [Action, Thriller, Crime]   \n",
       "5                         [Documentary]   \n",
       "6  [Adventure, Action, Science Fiction]   \n",
       "\n",
       "                                            keywords  \n",
       "0                                           [blondi]  \n",
       "3  [hotel, new year's ev, witch, bet, hotel room,...  \n",
       "4  [chicago, illinoi, drug deal, escap, one night...  \n",
       "5                                            [megac]  \n",
       "6  [android, galaxi, hermit, death star, lightsab...  "
      ]
     },
     "execution_count": 19,
     "metadata": {},
     "output_type": "execute_result"
    }
   ],
   "source": [
    "df_keywords_cleaned.head()"
   ]
  },
  {
   "cell_type": "code",
   "execution_count": 20,
   "id": "fundamental-institute",
   "metadata": {},
   "outputs": [],
   "source": [
    "#df_keywords_cleaned.to_csv( 'cleaned_data.csv', index=False, mode='a+')"
   ]
  },
  {
   "cell_type": "code",
   "execution_count": 21,
   "id": "still-acquisition",
   "metadata": {},
   "outputs": [
    {
     "data": {
      "text/plain": [
       "(19593, 4)"
      ]
     },
     "execution_count": 21,
     "metadata": {},
     "output_type": "execute_result"
    }
   ],
   "source": [
    "df_keywords_cleaned.shape"
   ]
  },
  {
   "cell_type": "markdown",
   "id": "satellite-advisory",
   "metadata": {},
   "source": [
    "## New set of keywords based on cleaned list"
   ]
  },
  {
   "cell_type": "code",
   "execution_count": 22,
   "id": "printable-indication",
   "metadata": {},
   "outputs": [
    {
     "name": "stdout",
     "output_type": "stream",
     "text": [
      "Number of keywords in variable 'keywords': 15437\n"
     ]
    }
   ],
   "source": [
    "clean_keywords, clean_keywords_roots, clean_keywords_select = keywords_inventory(df_keywords_cleaned, column = 'keywords')"
   ]
  },
  {
   "cell_type": "code",
   "execution_count": null,
   "id": "amber-whole",
   "metadata": {},
   "outputs": [],
   "source": []
  },
  {
   "cell_type": "markdown",
   "id": "duplicate-purple",
   "metadata": {},
   "source": [
    "## Remove low frequency words \n",
    "1) Delete all the keywords that appear in less than 3 films"
   ]
  },
  {
   "cell_type": "code",
   "execution_count": 23,
   "id": "enabling-philosophy",
   "metadata": {},
   "outputs": [],
   "source": [
    "# deletion of keywords that appear in less than 3 films\n",
    "#-------------------------------------------\n",
    "def remplacement_df_low_frequency_keywords(df, keyword_occurences):\n",
    "    df_new = df.copy(deep = True)\n",
    "    key_count = dict()\n",
    "    for s in keyword_occurences: # fit keyword_occurence to dict\n",
    "        key_count[s[0]] = s[1]    \n",
    "    for index, row in df_new.iterrows():\n",
    "        chain = row['keywords']\n",
    "        new_list = []\n",
    "        for s in chain: \n",
    "            if key_count.get(s, 4) > 3: new_list.append(s)\n",
    "        df_new.at[index,\"keywords\"] = new_list\n",
    "    return df_new"
   ]
  },
  {
   "cell_type": "code",
   "execution_count": 24,
   "id": "australian-generation",
   "metadata": {},
   "outputs": [],
   "source": [
    "def count_word(df, column, liste):\n",
    "    keyword_count = dict()\n",
    "    for s in liste: keyword_count[s] = 0 # Set keys, then their value = 0\n",
    "    for list_of_keywords in df[column]:                \n",
    "        for s in [s for s in list_of_keywords if s in liste]: \n",
    "            if pd.notnull(s): keyword_count[s] += 1 # Increment keycount\n",
    "    #______________________________________________________________________\n",
    "    # convert the dictionary in a list to sort the keywords by frequency\n",
    "    keyword_occurences = []\n",
    "    for k,v in keyword_count.items():\n",
    "        keyword_occurences.append([k,v])\n",
    "    keyword_occurences.sort(key = lambda x:x[1], reverse = True)\n",
    "    return keyword_occurences, keyword_count"
   ]
  },
  {
   "cell_type": "code",
   "execution_count": 25,
   "id": "satellite-block",
   "metadata": {},
   "outputs": [
    {
     "data": {
      "text/plain": [
       "[['woman director', 1216],\n",
       " ['murder', 1043],\n",
       " ['based on novel or book', 996],\n",
       " ['music', 855],\n",
       " ['sport', 602],\n",
       " ['new york c', 518],\n",
       " ['violenc', 509],\n",
       " ['noir', 488],\n",
       " ['reveng', 441],\n",
       " ['short film', 433]]"
      ]
     },
     "execution_count": 25,
     "metadata": {},
     "output_type": "execute_result"
    }
   ],
   "source": [
    "# New count of keyword occurences\n",
    "#-------------------------------------\n",
    "new_keyword_occurences, keywords_count = count_word(df_keywords_cleaned,\n",
    "                                                    'keywords',clean_keywords)\n",
    "new_keyword_occurences[:10]"
   ]
  },
  {
   "cell_type": "markdown",
   "id": "oriented-breeding",
   "metadata": {},
   "source": [
    "Top keywords include 'woman director', 'murder', 'based on novel or book' and 'music'"
   ]
  },
  {
   "cell_type": "code",
   "execution_count": 26,
   "id": "automated-validation",
   "metadata": {},
   "outputs": [
    {
     "name": "stdout",
     "output_type": "stream",
     "text": [
      "Number of keywords in variable 'keywords': 5187\n"
     ]
    }
   ],
   "source": [
    "# Creation of a dataframe where keywords of low frequencies are deleted\n",
    "#-------------------------------------------------------------------------\n",
    "df_keywords_occurence = remplacement_df_low_frequency_keywords(df_keywords_cleaned, new_keyword_occurences)\n",
    "freq_keywords, freq_keywords_roots, freq_keywords_select = keywords_inventory(df_keywords_occurence, column = 'keywords')  "
   ]
  },
  {
   "cell_type": "markdown",
   "id": "intimate-solomon",
   "metadata": {},
   "source": [
    "# Low frequency keywords are removed"
   ]
  },
  {
   "cell_type": "code",
   "execution_count": 27,
   "id": "angry-sydney",
   "metadata": {},
   "outputs": [
    {
     "data": {
      "text/html": [
       "<div>\n",
       "<style scoped>\n",
       "    .dataframe tbody tr th:only-of-type {\n",
       "        vertical-align: middle;\n",
       "    }\n",
       "\n",
       "    .dataframe tbody tr th {\n",
       "        vertical-align: top;\n",
       "    }\n",
       "\n",
       "    .dataframe thead th {\n",
       "        text-align: right;\n",
       "    }\n",
       "</style>\n",
       "<table border=\"1\" class=\"dataframe\">\n",
       "  <thead>\n",
       "    <tr style=\"text-align: right;\">\n",
       "      <th></th>\n",
       "      <th>title</th>\n",
       "      <th>id</th>\n",
       "      <th>genres</th>\n",
       "      <th>keywords</th>\n",
       "    </tr>\n",
       "  </thead>\n",
       "  <tbody>\n",
       "    <tr>\n",
       "      <th>0</th>\n",
       "      <td>Blondie</td>\n",
       "      <td>3924</td>\n",
       "      <td>[Comedy]</td>\n",
       "      <td>[blondi]</td>\n",
       "    </tr>\n",
       "    <tr>\n",
       "      <th>3</th>\n",
       "      <td>Four Rooms</td>\n",
       "      <td>5</td>\n",
       "      <td>[Crime, Comedy]</td>\n",
       "      <td>[hotel, new year's ev, witch, bet, hotel room,...</td>\n",
       "    </tr>\n",
       "    <tr>\n",
       "      <th>4</th>\n",
       "      <td>Judgment Night</td>\n",
       "      <td>6</td>\n",
       "      <td>[Action, Thriller, Crime]</td>\n",
       "      <td>[chicago, illinoi, drug deal, escap, one night...</td>\n",
       "    </tr>\n",
       "    <tr>\n",
       "      <th>5</th>\n",
       "      <td>Life in Loops (A Megacities RMX)</td>\n",
       "      <td>8</td>\n",
       "      <td>[Documentary]</td>\n",
       "      <td>[]</td>\n",
       "    </tr>\n",
       "    <tr>\n",
       "      <th>6</th>\n",
       "      <td>Star Wars</td>\n",
       "      <td>11</td>\n",
       "      <td>[Adventure, Action, Science Fiction]</td>\n",
       "      <td>[android, galaxi, hermit, death star, jedi, re...</td>\n",
       "    </tr>\n",
       "  </tbody>\n",
       "</table>\n",
       "</div>"
      ],
      "text/plain": [
       "                              title    id  \\\n",
       "0                           Blondie  3924   \n",
       "3                        Four Rooms     5   \n",
       "4                    Judgment Night     6   \n",
       "5  Life in Loops (A Megacities RMX)     8   \n",
       "6                         Star Wars    11   \n",
       "\n",
       "                                 genres  \\\n",
       "0                              [Comedy]   \n",
       "3                       [Crime, Comedy]   \n",
       "4             [Action, Thriller, Crime]   \n",
       "5                         [Documentary]   \n",
       "6  [Adventure, Action, Science Fiction]   \n",
       "\n",
       "                                            keywords  \n",
       "0                                           [blondi]  \n",
       "3  [hotel, new year's ev, witch, bet, hotel room,...  \n",
       "4  [chicago, illinoi, drug deal, escap, one night...  \n",
       "5                                                 []  \n",
       "6  [android, galaxi, hermit, death star, jedi, re...  "
      ]
     },
     "execution_count": 27,
     "metadata": {},
     "output_type": "execute_result"
    }
   ],
   "source": [
    "df_keywords_occurence.head()"
   ]
  },
  {
   "cell_type": "markdown",
   "id": "judicial-belly",
   "metadata": {},
   "source": [
    "There are some rows with empty keywords. This is due to the removal of low frequency keywords. \n",
    "We will delete these rows with empty keywords with Microsoft Excel."
   ]
  },
  {
   "cell_type": "code",
   "execution_count": 28,
   "id": "thick-spanking",
   "metadata": {},
   "outputs": [],
   "source": [
    "df_keywords_occurence.to_csv( 'occur_cleaned_data.csv', index=False, mode='a+')"
   ]
  },
  {
   "cell_type": "code",
   "execution_count": null,
   "id": "contrary-platinum",
   "metadata": {},
   "outputs": [],
   "source": []
  }
 ],
 "metadata": {
  "kernelspec": {
   "display_name": "Python 3",
   "language": "python",
   "name": "python3"
  },
  "language_info": {
   "codemirror_mode": {
    "name": "ipython",
    "version": 3
   },
   "file_extension": ".py",
   "mimetype": "text/x-python",
   "name": "python",
   "nbconvert_exporter": "python",
   "pygments_lexer": "ipython3",
   "version": "3.9.7 (default, Nov 21 2021, 22:02:56)  [GCC 11.2.0 64 bit (AMD64)]"
  },
  "vscode": {
   "interpreter": {
    "hash": "2a8dfe095fce2b5e88c64a2c3ee084c8e0e0d70b23e7b95b1cfb538be294c5c8"
   }
  }
 },
 "nbformat": 4,
 "nbformat_minor": 5
}
