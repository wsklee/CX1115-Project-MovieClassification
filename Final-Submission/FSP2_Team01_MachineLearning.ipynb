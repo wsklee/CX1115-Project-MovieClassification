{
 "cells": [
  {
   "cell_type": "markdown",
   "id": "sharp-watson",
   "metadata": {},
   "source": [
    "# Machine Learning\n",
    "\n",
    "## Problem:\n",
    "To find out if the machine learning models can classify the keywords of movies and predict the genre of the movie in a test set correctly.\n",
    "\n",
    "If machine learning can predict the genre correctly it means there is relevance between the keywords and the genre\n",
    "This means there is a way to predict the genre just with keywords, solving our objective.\n"
   ]
  },
  {
   "cell_type": "code",
   "execution_count": 1,
   "id": "legal-ready",
   "metadata": {},
   "outputs": [],
   "source": [
    "import pandas as pd\n",
    "import numpy as np\n",
    "import json\n",
    "import nltk\n",
    "import csv\n",
    "import matplotlib.pyplot as plt \n",
    "import seaborn as sns\n",
    "from sklearn.feature_extraction.text import TfidfVectorizer\n",
    "from sklearn.model_selection import train_test_split\n",
    "\n",
    "%matplotlib inline"
   ]
  },
  {
   "cell_type": "code",
   "execution_count": 2,
   "id": "sized-check",
   "metadata": {},
   "outputs": [
    {
     "data": {
      "text/html": [
       "<div>\n",
       "<style scoped>\n",
       "    .dataframe tbody tr th:only-of-type {\n",
       "        vertical-align: middle;\n",
       "    }\n",
       "\n",
       "    .dataframe tbody tr th {\n",
       "        vertical-align: top;\n",
       "    }\n",
       "\n",
       "    .dataframe thead th {\n",
       "        text-align: right;\n",
       "    }\n",
       "</style>\n",
       "<table border=\"1\" class=\"dataframe\">\n",
       "  <thead>\n",
       "    <tr style=\"text-align: right;\">\n",
       "      <th></th>\n",
       "      <th>title</th>\n",
       "      <th>id</th>\n",
       "      <th>genres</th>\n",
       "      <th>keywords</th>\n",
       "    </tr>\n",
       "  </thead>\n",
       "  <tbody>\n",
       "    <tr>\n",
       "      <th>0</th>\n",
       "      <td>Blondie</td>\n",
       "      <td>3924</td>\n",
       "      <td>['Comedy']</td>\n",
       "      <td>['blondi']</td>\n",
       "    </tr>\n",
       "    <tr>\n",
       "      <th>1</th>\n",
       "      <td>Four Rooms</td>\n",
       "      <td>5</td>\n",
       "      <td>['Crime', 'Comedy']</td>\n",
       "      <td>['hotel', \"new year's ev\", 'witch', 'bet', 'ho...</td>\n",
       "    </tr>\n",
       "    <tr>\n",
       "      <th>2</th>\n",
       "      <td>Judgment Night</td>\n",
       "      <td>6</td>\n",
       "      <td>['Action', 'Thriller', 'Crime']</td>\n",
       "      <td>['chicago, illinoi', 'drug deal', 'escap', 'on...</td>\n",
       "    </tr>\n",
       "    <tr>\n",
       "      <th>3</th>\n",
       "      <td>Star Wars</td>\n",
       "      <td>11</td>\n",
       "      <td>['Adventure', 'Action', 'Science Fiction']</td>\n",
       "      <td>['android', 'galaxi', 'hermit', 'death star', ...</td>\n",
       "    </tr>\n",
       "    <tr>\n",
       "      <th>4</th>\n",
       "      <td>Finding Nemo</td>\n",
       "      <td>12</td>\n",
       "      <td>['Animation', 'Family']</td>\n",
       "      <td>['parent child relationship', 'sydney, austral...</td>\n",
       "    </tr>\n",
       "  </tbody>\n",
       "</table>\n",
       "</div>"
      ],
      "text/plain": [
       "            title    id                                      genres  \\\n",
       "0         Blondie  3924                                  ['Comedy']   \n",
       "1      Four Rooms     5                         ['Crime', 'Comedy']   \n",
       "2  Judgment Night     6             ['Action', 'Thriller', 'Crime']   \n",
       "3       Star Wars    11  ['Adventure', 'Action', 'Science Fiction']   \n",
       "4    Finding Nemo    12                     ['Animation', 'Family']   \n",
       "\n",
       "                                            keywords  \n",
       "0                                         ['blondi']  \n",
       "1  ['hotel', \"new year's ev\", 'witch', 'bet', 'ho...  \n",
       "2  ['chicago, illinoi', 'drug deal', 'escap', 'on...  \n",
       "3  ['android', 'galaxi', 'hermit', 'death star', ...  \n",
       "4  ['parent child relationship', 'sydney, austral...  "
      ]
     },
     "execution_count": 2,
     "metadata": {},
     "output_type": "execute_result"
    }
   ],
   "source": [
    "df= pd.read_excel('alpha_occur_cleaned_data.xlsx')\n",
    "df.head()"
   ]
  },
  {
   "cell_type": "markdown",
   "id": "acknowledged-description",
   "metadata": {},
   "source": [
    "The rows with empty keywords have been deleted with Microsoft Excel"
   ]
  },
  {
   "cell_type": "code",
   "execution_count": 3,
   "id": "bibliographic-camping",
   "metadata": {},
   "outputs": [
    {
     "data": {
      "text/plain": [
       "(19293, 4)"
      ]
     },
     "execution_count": 3,
     "metadata": {},
     "output_type": "execute_result"
    }
   ],
   "source": [
    "df.shape"
   ]
  },
  {
   "cell_type": "code",
   "execution_count": 4,
   "id": "metric-despite",
   "metadata": {},
   "outputs": [
    {
     "data": {
      "text/html": [
       "<div>\n",
       "<style scoped>\n",
       "    .dataframe tbody tr th:only-of-type {\n",
       "        vertical-align: middle;\n",
       "    }\n",
       "\n",
       "    .dataframe tbody tr th {\n",
       "        vertical-align: top;\n",
       "    }\n",
       "\n",
       "    .dataframe thead th {\n",
       "        text-align: right;\n",
       "    }\n",
       "</style>\n",
       "<table border=\"1\" class=\"dataframe\">\n",
       "  <thead>\n",
       "    <tr style=\"text-align: right;\">\n",
       "      <th></th>\n",
       "      <th>title</th>\n",
       "      <th>id</th>\n",
       "      <th>genres</th>\n",
       "      <th>keywords</th>\n",
       "    </tr>\n",
       "  </thead>\n",
       "  <tbody>\n",
       "    <tr>\n",
       "      <th>0</th>\n",
       "      <td>Blondie</td>\n",
       "      <td>3924</td>\n",
       "      <td>['Comedy']</td>\n",
       "      <td>['blondi']</td>\n",
       "    </tr>\n",
       "    <tr>\n",
       "      <th>1</th>\n",
       "      <td>Four Rooms</td>\n",
       "      <td>5</td>\n",
       "      <td>['Crime', 'Comedy']</td>\n",
       "      <td>['hotel', \"new year's ev\", 'witch', 'bet', 'ho...</td>\n",
       "    </tr>\n",
       "    <tr>\n",
       "      <th>2</th>\n",
       "      <td>Judgment Night</td>\n",
       "      <td>6</td>\n",
       "      <td>['Action', 'Thriller', 'Crime']</td>\n",
       "      <td>['chicago, illinoi', 'drug deal', 'escap', 'on...</td>\n",
       "    </tr>\n",
       "    <tr>\n",
       "      <th>3</th>\n",
       "      <td>Star Wars</td>\n",
       "      <td>11</td>\n",
       "      <td>['Adventure', 'Action', 'Science Fiction']</td>\n",
       "      <td>['android', 'galaxi', 'hermit', 'death star', ...</td>\n",
       "    </tr>\n",
       "    <tr>\n",
       "      <th>4</th>\n",
       "      <td>Finding Nemo</td>\n",
       "      <td>12</td>\n",
       "      <td>['Animation', 'Family']</td>\n",
       "      <td>['parent child relationship', 'sydney, austral...</td>\n",
       "    </tr>\n",
       "  </tbody>\n",
       "</table>\n",
       "</div>"
      ],
      "text/plain": [
       "            title    id                                      genres  \\\n",
       "0         Blondie  3924                                  ['Comedy']   \n",
       "1      Four Rooms     5                         ['Crime', 'Comedy']   \n",
       "2  Judgment Night     6             ['Action', 'Thriller', 'Crime']   \n",
       "3       Star Wars    11  ['Adventure', 'Action', 'Science Fiction']   \n",
       "4    Finding Nemo    12                     ['Animation', 'Family']   \n",
       "\n",
       "                                            keywords  \n",
       "0                                         ['blondi']  \n",
       "1  ['hotel', \"new year's ev\", 'witch', 'bet', 'ho...  \n",
       "2  ['chicago, illinoi', 'drug deal', 'escap', 'on...  \n",
       "3  ['android', 'galaxi', 'hermit', 'death star', ...  \n",
       "4  ['parent child relationship', 'sydney, austral...  "
      ]
     },
     "execution_count": 4,
     "metadata": {},
     "output_type": "execute_result"
    }
   ],
   "source": [
    "processing_data = df\n",
    "processing_data.head()"
   ]
  },
  {
   "cell_type": "markdown",
   "id": "loving-watershed",
   "metadata": {},
   "source": [
    "## String processing. 'genres' in csv/xlsx was stored as string instead of a list\n",
    "\n",
    "Using ast to convert genres from string to list."
   ]
  },
  {
   "cell_type": "code",
   "execution_count": 5,
   "id": "pursuant-projector",
   "metadata": {},
   "outputs": [],
   "source": [
    "import ast"
   ]
  },
  {
   "cell_type": "code",
   "execution_count": 6,
   "id": "higher-overview",
   "metadata": {},
   "outputs": [
    {
     "data": {
      "text/plain": [
       "(19293, 4)"
      ]
     },
     "execution_count": 6,
     "metadata": {},
     "output_type": "execute_result"
    }
   ],
   "source": [
    "# find how many rows in data\n",
    "processing_data.shape"
   ]
  },
  {
   "cell_type": "code",
   "execution_count": 7,
   "id": "indoor-retro",
   "metadata": {},
   "outputs": [
    {
     "name": "stderr",
     "output_type": "stream",
     "text": [
      "<ipython-input-7-623a27b094f8>:3: SettingWithCopyWarning: \n",
      "A value is trying to be set on a copy of a slice from a DataFrame\n",
      "\n",
      "See the caveats in the documentation: https://pandas.pydata.org/pandas-docs/stable/user_guide/indexing.html#returning-a-view-versus-a-copy\n",
      "  processing_data['genres'][i] = ast.literal_eval(processing_data['genres'][i])\n"
     ]
    }
   ],
   "source": [
    "# For loop on all the strings\n",
    "for i in range(processing_data.shape[0]):\n",
    "    processing_data['genres'][i] = ast.literal_eval(processing_data['genres'][i])"
   ]
  },
  {
   "cell_type": "code",
   "execution_count": 8,
   "id": "derived-salmon",
   "metadata": {},
   "outputs": [
    {
     "data": {
      "text/html": [
       "<div>\n",
       "<style scoped>\n",
       "    .dataframe tbody tr th:only-of-type {\n",
       "        vertical-align: middle;\n",
       "    }\n",
       "\n",
       "    .dataframe tbody tr th {\n",
       "        vertical-align: top;\n",
       "    }\n",
       "\n",
       "    .dataframe thead th {\n",
       "        text-align: right;\n",
       "    }\n",
       "</style>\n",
       "<table border=\"1\" class=\"dataframe\">\n",
       "  <thead>\n",
       "    <tr style=\"text-align: right;\">\n",
       "      <th></th>\n",
       "      <th>title</th>\n",
       "      <th>id</th>\n",
       "      <th>genres</th>\n",
       "      <th>keywords</th>\n",
       "    </tr>\n",
       "  </thead>\n",
       "  <tbody>\n",
       "    <tr>\n",
       "      <th>0</th>\n",
       "      <td>Blondie</td>\n",
       "      <td>3924</td>\n",
       "      <td>[Comedy]</td>\n",
       "      <td>['blondi']</td>\n",
       "    </tr>\n",
       "    <tr>\n",
       "      <th>1</th>\n",
       "      <td>Four Rooms</td>\n",
       "      <td>5</td>\n",
       "      <td>[Crime, Comedy]</td>\n",
       "      <td>['hotel', \"new year's ev\", 'witch', 'bet', 'ho...</td>\n",
       "    </tr>\n",
       "    <tr>\n",
       "      <th>2</th>\n",
       "      <td>Judgment Night</td>\n",
       "      <td>6</td>\n",
       "      <td>[Action, Thriller, Crime]</td>\n",
       "      <td>['chicago, illinoi', 'drug deal', 'escap', 'on...</td>\n",
       "    </tr>\n",
       "    <tr>\n",
       "      <th>3</th>\n",
       "      <td>Star Wars</td>\n",
       "      <td>11</td>\n",
       "      <td>[Adventure, Action, Science Fiction]</td>\n",
       "      <td>['android', 'galaxi', 'hermit', 'death star', ...</td>\n",
       "    </tr>\n",
       "    <tr>\n",
       "      <th>4</th>\n",
       "      <td>Finding Nemo</td>\n",
       "      <td>12</td>\n",
       "      <td>[Animation, Family]</td>\n",
       "      <td>['parent child relationship', 'sydney, austral...</td>\n",
       "    </tr>\n",
       "  </tbody>\n",
       "</table>\n",
       "</div>"
      ],
      "text/plain": [
       "            title    id                                genres  \\\n",
       "0         Blondie  3924                              [Comedy]   \n",
       "1      Four Rooms     5                       [Crime, Comedy]   \n",
       "2  Judgment Night     6             [Action, Thriller, Crime]   \n",
       "3       Star Wars    11  [Adventure, Action, Science Fiction]   \n",
       "4    Finding Nemo    12                   [Animation, Family]   \n",
       "\n",
       "                                            keywords  \n",
       "0                                         ['blondi']  \n",
       "1  ['hotel', \"new year's ev\", 'witch', 'bet', 'ho...  \n",
       "2  ['chicago, illinoi', 'drug deal', 'escap', 'on...  \n",
       "3  ['android', 'galaxi', 'hermit', 'death star', ...  \n",
       "4  ['parent child relationship', 'sydney, austral...  "
      ]
     },
     "execution_count": 8,
     "metadata": {},
     "output_type": "execute_result"
    }
   ],
   "source": [
    "processing_data.head()"
   ]
  },
  {
   "cell_type": "code",
   "execution_count": 9,
   "id": "twenty-subsection",
   "metadata": {},
   "outputs": [
    {
     "data": {
      "text/plain": [
       "'Thriller'"
      ]
     },
     "execution_count": 9,
     "metadata": {},
     "output_type": "execute_result"
    }
   ],
   "source": [
    "# Sanity check\n",
    "processing_data['genres'][2][1]"
   ]
  },
  {
   "cell_type": "code",
   "execution_count": 10,
   "id": "arbitrary-devices",
   "metadata": {},
   "outputs": [
    {
     "data": {
      "text/plain": [
       "'Action'"
      ]
     },
     "execution_count": 10,
     "metadata": {},
     "output_type": "execute_result"
    }
   ],
   "source": [
    "processing_data['genres'][1900][1]"
   ]
  },
  {
   "cell_type": "markdown",
   "id": "partial-double",
   "metadata": {},
   "source": [
    "## String processing on 'keywords'. Remove whitespaces"
   ]
  },
  {
   "cell_type": "code",
   "execution_count": 11,
   "id": "younger-bible",
   "metadata": {},
   "outputs": [
    {
     "name": "stderr",
     "output_type": "stream",
     "text": [
      "<ipython-input-11-7a659c5b8e31>:3: SettingWithCopyWarning: \n",
      "A value is trying to be set on a copy of a slice from a DataFrame\n",
      "\n",
      "See the caveats in the documentation: https://pandas.pydata.org/pandas-docs/stable/user_guide/indexing.html#returning-a-view-versus-a-copy\n",
      "  processing_data['keywords'][i] = processing_data['keywords'][i].replace(\" \", \"\")\n"
     ]
    }
   ],
   "source": [
    "# For loop on all the strings\n",
    "for i in range(processing_data.shape[0]):\n",
    "    processing_data['keywords'][i] = processing_data['keywords'][i].replace(\" \", \"\")"
   ]
  },
  {
   "cell_type": "code",
   "execution_count": 12,
   "id": "monthly-warrior",
   "metadata": {},
   "outputs": [
    {
     "data": {
      "text/html": [
       "<div>\n",
       "<style scoped>\n",
       "    .dataframe tbody tr th:only-of-type {\n",
       "        vertical-align: middle;\n",
       "    }\n",
       "\n",
       "    .dataframe tbody tr th {\n",
       "        vertical-align: top;\n",
       "    }\n",
       "\n",
       "    .dataframe thead th {\n",
       "        text-align: right;\n",
       "    }\n",
       "</style>\n",
       "<table border=\"1\" class=\"dataframe\">\n",
       "  <thead>\n",
       "    <tr style=\"text-align: right;\">\n",
       "      <th></th>\n",
       "      <th>title</th>\n",
       "      <th>id</th>\n",
       "      <th>genres</th>\n",
       "      <th>keywords</th>\n",
       "    </tr>\n",
       "  </thead>\n",
       "  <tbody>\n",
       "    <tr>\n",
       "      <th>0</th>\n",
       "      <td>Blondie</td>\n",
       "      <td>3924</td>\n",
       "      <td>[Comedy]</td>\n",
       "      <td>['blondi']</td>\n",
       "    </tr>\n",
       "    <tr>\n",
       "      <th>1</th>\n",
       "      <td>Four Rooms</td>\n",
       "      <td>5</td>\n",
       "      <td>[Crime, Comedy]</td>\n",
       "      <td>['hotel',\"newyear'sev\",'witch','bet','hotelroo...</td>\n",
       "    </tr>\n",
       "    <tr>\n",
       "      <th>2</th>\n",
       "      <td>Judgment Night</td>\n",
       "      <td>6</td>\n",
       "      <td>[Action, Thriller, Crime]</td>\n",
       "      <td>['chicago,illinoi','drugdeal','escap','onenigh...</td>\n",
       "    </tr>\n",
       "    <tr>\n",
       "      <th>3</th>\n",
       "      <td>Star Wars</td>\n",
       "      <td>11</td>\n",
       "      <td>[Adventure, Action, Science Fiction]</td>\n",
       "      <td>['android','galaxi','hermit','deathstar','jedi...</td>\n",
       "    </tr>\n",
       "    <tr>\n",
       "      <th>4</th>\n",
       "      <td>Finding Nemo</td>\n",
       "      <td>12</td>\n",
       "      <td>[Animation, Family]</td>\n",
       "      <td>['parentchildrelationship','sydney,australia',...</td>\n",
       "    </tr>\n",
       "    <tr>\n",
       "      <th>...</th>\n",
       "      <td>...</td>\n",
       "      <td>...</td>\n",
       "      <td>...</td>\n",
       "      <td>...</td>\n",
       "    </tr>\n",
       "    <tr>\n",
       "      <th>95</th>\n",
       "      <td>Star Trek V: The Final Frontier</td>\n",
       "      <td>172</td>\n",
       "      <td>[Science Fiction, Action, Adventure, Thriller]</td>\n",
       "      <td>['feder','lossoflovedon','selfsacrific','hosta...</td>\n",
       "    </tr>\n",
       "    <tr>\n",
       "      <th>96</th>\n",
       "      <td>20,000 Leagues Under the Sea</td>\n",
       "      <td>173</td>\n",
       "      <td>[Adventure, Drama, Family, Fantasy, Science Fi...</td>\n",
       "      <td>['dive','ocean','submarin','julesvern','captai...</td>\n",
       "    </tr>\n",
       "    <tr>\n",
       "      <th>97</th>\n",
       "      <td>Star Trek VI: The Undiscovered Country</td>\n",
       "      <td>174</td>\n",
       "      <td>[Science Fiction, Action, Adventure, Thriller]</td>\n",
       "      <td>['farewel','feder','courtcas','plan','spaceope...</td>\n",
       "    </tr>\n",
       "    <tr>\n",
       "      <th>98</th>\n",
       "      <td>Saw</td>\n",
       "      <td>176</td>\n",
       "      <td>[Horror, Mystery, Crime]</td>\n",
       "      <td>['detect','shotgun','flashback','hospit','doct...</td>\n",
       "    </tr>\n",
       "    <tr>\n",
       "      <th>99</th>\n",
       "      <td>The Fisher King</td>\n",
       "      <td>177</td>\n",
       "      <td>[Comedy, Drama]</td>\n",
       "      <td>['holygrail','lossoflovedon','homelessperson',...</td>\n",
       "    </tr>\n",
       "  </tbody>\n",
       "</table>\n",
       "<p>100 rows × 4 columns</p>\n",
       "</div>"
      ],
      "text/plain": [
       "                                     title    id  \\\n",
       "0                                  Blondie  3924   \n",
       "1                               Four Rooms     5   \n",
       "2                           Judgment Night     6   \n",
       "3                                Star Wars    11   \n",
       "4                             Finding Nemo    12   \n",
       "..                                     ...   ...   \n",
       "95         Star Trek V: The Final Frontier   172   \n",
       "96            20,000 Leagues Under the Sea   173   \n",
       "97  Star Trek VI: The Undiscovered Country   174   \n",
       "98                                     Saw   176   \n",
       "99                         The Fisher King   177   \n",
       "\n",
       "                                               genres  \\\n",
       "0                                            [Comedy]   \n",
       "1                                     [Crime, Comedy]   \n",
       "2                           [Action, Thriller, Crime]   \n",
       "3                [Adventure, Action, Science Fiction]   \n",
       "4                                 [Animation, Family]   \n",
       "..                                                ...   \n",
       "95     [Science Fiction, Action, Adventure, Thriller]   \n",
       "96  [Adventure, Drama, Family, Fantasy, Science Fi...   \n",
       "97     [Science Fiction, Action, Adventure, Thriller]   \n",
       "98                           [Horror, Mystery, Crime]   \n",
       "99                                    [Comedy, Drama]   \n",
       "\n",
       "                                             keywords  \n",
       "0                                          ['blondi']  \n",
       "1   ['hotel',\"newyear'sev\",'witch','bet','hotelroo...  \n",
       "2   ['chicago,illinoi','drugdeal','escap','onenigh...  \n",
       "3   ['android','galaxi','hermit','deathstar','jedi...  \n",
       "4   ['parentchildrelationship','sydney,australia',...  \n",
       "..                                                ...  \n",
       "95  ['feder','lossoflovedon','selfsacrific','hosta...  \n",
       "96  ['dive','ocean','submarin','julesvern','captai...  \n",
       "97  ['farewel','feder','courtcas','plan','spaceope...  \n",
       "98  ['detect','shotgun','flashback','hospit','doct...  \n",
       "99  ['holygrail','lossoflovedon','homelessperson',...  \n",
       "\n",
       "[100 rows x 4 columns]"
      ]
     },
     "execution_count": 12,
     "metadata": {},
     "output_type": "execute_result"
    }
   ],
   "source": [
    "processing_data.head(100)"
   ]
  },
  {
   "cell_type": "markdown",
   "id": "solid-trauma",
   "metadata": {},
   "source": [
    "## sanity check on the processed data"
   ]
  },
  {
   "cell_type": "code",
   "execution_count": 13,
   "id": "catholic-hampshire",
   "metadata": {},
   "outputs": [
    {
     "data": {
      "text/plain": [
       "'Comedy'"
      ]
     },
     "execution_count": 13,
     "metadata": {},
     "output_type": "execute_result"
    }
   ],
   "source": [
    "processing_data['genres'][10000][0]"
   ]
  },
  {
   "cell_type": "code",
   "execution_count": 14,
   "id": "dense-marina",
   "metadata": {},
   "outputs": [
    {
     "data": {
      "text/plain": [
       "\"['chicago,illinoi','drugdeal','escap','onenight','box']\""
      ]
     },
     "execution_count": 14,
     "metadata": {},
     "output_type": "execute_result"
    }
   ],
   "source": [
    "processing_data['keywords'][2]"
   ]
  },
  {
   "cell_type": "code",
   "execution_count": 15,
   "id": "exceptional-fancy",
   "metadata": {},
   "outputs": [
    {
     "data": {
      "text/plain": [
       "\"['drive-intheat']\""
      ]
     },
     "execution_count": 15,
     "metadata": {},
     "output_type": "execute_result"
    }
   ],
   "source": [
    "processing_data['keywords'][10000]"
   ]
  },
  {
   "cell_type": "markdown",
   "id": "developmental-rhythm",
   "metadata": {},
   "source": [
    "# Multi-Label Classification\n",
    "## Transformation into binary classification problems\n",
    "\n",
    "Target variables 'genres' will be one-hot encoded. Using MultiLabelBinarizer module.\n",
    "https://scikit-learn.org/stable/modules/generated/sklearn.preprocessing.MultiLabelBinarizer.html"
   ]
  },
  {
   "cell_type": "code",
   "execution_count": 16,
   "id": "cellular-mambo",
   "metadata": {},
   "outputs": [],
   "source": [
    "from sklearn.preprocessing import MultiLabelBinarizer\n",
    "\n",
    "multilabel_binarizer = MultiLabelBinarizer()\n",
    "multilabel_binarizer.fit(processing_data['genres'])\n",
    "\n",
    "# transform target variable\n",
    "y = multilabel_binarizer.transform(processing_data['genres'])"
   ]
  },
  {
   "cell_type": "code",
   "execution_count": 17,
   "id": "auburn-rental",
   "metadata": {},
   "outputs": [
    {
     "data": {
      "text/plain": [
       "array([[0, 0, 0, ..., 0, 0, 0],\n",
       "       [0, 0, 0, ..., 0, 0, 0],\n",
       "       [1, 0, 0, ..., 1, 0, 0],\n",
       "       ...,\n",
       "       [0, 0, 0, ..., 0, 0, 0],\n",
       "       [0, 0, 0, ..., 0, 0, 0],\n",
       "       [0, 0, 0, ..., 0, 0, 0]])"
      ]
     },
     "execution_count": 17,
     "metadata": {},
     "output_type": "execute_result"
    }
   ],
   "source": [
    "y"
   ]
  },
  {
   "cell_type": "code",
   "execution_count": 18,
   "id": "quick-tanzania",
   "metadata": {},
   "outputs": [
    {
     "data": {
      "text/plain": [
       "(19293, 19)"
      ]
     },
     "execution_count": 18,
     "metadata": {},
     "output_type": "execute_result"
    }
   ],
   "source": [
    "y.shape"
   ]
  },
  {
   "cell_type": "markdown",
   "id": "established-coffee",
   "metadata": {},
   "source": [
    "19 Genres encoded"
   ]
  },
  {
   "cell_type": "markdown",
   "id": "acquired-intention",
   "metadata": {},
   "source": [
    "# Tf-idf vectorizer\n",
    "https://scikit-learn.org/stable/modules/feature_extraction.html#text-feature-extraction "
   ]
  },
  {
   "cell_type": "code",
   "execution_count": 19,
   "id": "demanding-shock",
   "metadata": {},
   "outputs": [],
   "source": [
    "tfidf_vectorizer = TfidfVectorizer()"
   ]
  },
  {
   "cell_type": "code",
   "execution_count": 20,
   "id": "advised-crazy",
   "metadata": {},
   "outputs": [],
   "source": [
    "# split dataset into training and test set\n",
    "X_train, X_test, y_train, y_test = train_test_split(processing_data['keywords'], y, test_size=0.2, random_state=9)"
   ]
  },
  {
   "cell_type": "code",
   "execution_count": 21,
   "id": "original-passport",
   "metadata": {},
   "outputs": [
    {
     "data": {
      "text/plain": [
       "6576         ['terrorist','undercov','lasvega','showgirl']\n",
       "8502           ['journalist','rockstar','music','concert']\n",
       "16532                                    ['privatedetect']\n",
       "3481     ['supercomput','computerprogram','destini','ti...\n",
       "8215                    ['robberi','bank','love','murder']\n",
       "                               ...                        \n",
       "4532     ['judg','juror','deathpenalti','revel','righta...\n",
       "4673     ['virgin','colleg','pregnanc','yoga','bikini',...\n",
       "5014                                 ['worldwarii','tank']\n",
       "9979     ['neonaz','prison','gallow','coffe','auschwitz...\n",
       "501      ['suicid','paranoia','blackmarket','hallucin',...\n",
       "Name: keywords, Length: 15434, dtype: object"
      ]
     },
     "execution_count": 21,
     "metadata": {},
     "output_type": "execute_result"
    }
   ],
   "source": [
    "X_train"
   ]
  },
  {
   "cell_type": "code",
   "execution_count": 22,
   "id": "bibliographic-dance",
   "metadata": {},
   "outputs": [
    {
     "data": {
      "text/plain": [
       "array([[1, 0, 0, ..., 1, 0, 0],\n",
       "       [0, 0, 0, ..., 0, 0, 0],\n",
       "       [0, 0, 0, ..., 0, 0, 0],\n",
       "       ...,\n",
       "       [0, 0, 0, ..., 0, 1, 0],\n",
       "       [0, 0, 0, ..., 0, 0, 0],\n",
       "       [0, 0, 0, ..., 0, 0, 0]])"
      ]
     },
     "execution_count": 22,
     "metadata": {},
     "output_type": "execute_result"
    }
   ],
   "source": [
    "y_train"
   ]
  },
  {
   "cell_type": "code",
   "execution_count": 23,
   "id": "integral-denver",
   "metadata": {},
   "outputs": [],
   "source": [
    "# create TF-IDF features\n",
    "X_train_tfidf = tfidf_vectorizer.fit_transform(X_train)\n",
    "X_test_tfidf = tfidf_vectorizer.transform(X_test)"
   ]
  },
  {
   "cell_type": "code",
   "execution_count": 24,
   "id": "acquired-learning",
   "metadata": {},
   "outputs": [
    {
     "data": {
      "text/plain": [
       "<15434x5235 sparse matrix of type '<class 'numpy.float64'>'\n",
       "\twith 82783 stored elements in Compressed Sparse Row format>"
      ]
     },
     "execution_count": 24,
     "metadata": {},
     "output_type": "execute_result"
    }
   ],
   "source": [
    "X_train_tfidf"
   ]
  },
  {
   "cell_type": "markdown",
   "id": "lesser-yorkshire",
   "metadata": {},
   "source": [
    "# Logistic Regrssion"
   ]
  },
  {
   "cell_type": "code",
   "execution_count": 25,
   "id": "continued-combine",
   "metadata": {},
   "outputs": [],
   "source": [
    "from sklearn.linear_model import LogisticRegression\n",
    "\n",
    "from sklearn.multiclass import OneVsRestClassifier\n",
    "\n",
    "# Performance metric\n",
    "from sklearn.metrics import f1_score"
   ]
  },
  {
   "cell_type": "code",
   "execution_count": 26,
   "id": "treated-beijing",
   "metadata": {},
   "outputs": [],
   "source": [
    "lr = LogisticRegression()\n",
    "LR_clf = OneVsRestClassifier(lr)"
   ]
  },
  {
   "cell_type": "code",
   "execution_count": 27,
   "id": "corporate-questionnaire",
   "metadata": {},
   "outputs": [
    {
     "data": {
      "text/plain": [
       "OneVsRestClassifier(estimator=LogisticRegression())"
      ]
     },
     "execution_count": 27,
     "metadata": {},
     "output_type": "execute_result"
    }
   ],
   "source": [
    "# fit model on train data\n",
    "LR_clf.fit(X_train_tfidf, y_train)"
   ]
  },
  {
   "cell_type": "code",
   "execution_count": 28,
   "id": "presidential-chaos",
   "metadata": {},
   "outputs": [],
   "source": [
    "# make predictions for test set\n",
    "y_pred = LR_clf.predict(X_test_tfidf)"
   ]
  },
  {
   "cell_type": "code",
   "execution_count": 29,
   "id": "cultural-coffee",
   "metadata": {},
   "outputs": [
    {
     "data": {
      "text/plain": [
       "array([0, 0, 0, 0, 0, 0, 1, 0, 0, 0, 0, 0, 0, 0, 0, 0, 0, 0, 0])"
      ]
     },
     "execution_count": 29,
     "metadata": {},
     "output_type": "execute_result"
    }
   ],
   "source": [
    "# Sanity check\n",
    "y_pred[100]"
   ]
  },
  {
   "cell_type": "code",
   "execution_count": 30,
   "id": "prostate-spell",
   "metadata": {},
   "outputs": [
    {
     "data": {
      "text/plain": [
       "('Drama',)"
      ]
     },
     "execution_count": 30,
     "metadata": {},
     "output_type": "execute_result"
    }
   ],
   "source": [
    "multilabel_binarizer.inverse_transform(y_pred)[0]"
   ]
  },
  {
   "cell_type": "code",
   "execution_count": 31,
   "id": "synthetic-drinking",
   "metadata": {},
   "outputs": [],
   "source": [
    "# evaluate performance\n",
    "LR_f1_score = f1_score(y_test, y_pred, average=\"micro\")"
   ]
  },
  {
   "cell_type": "code",
   "execution_count": 32,
   "id": "paperback-detail",
   "metadata": {},
   "outputs": [
    {
     "data": {
      "text/plain": [
       "0.45602090095796055"
      ]
     },
     "execution_count": 32,
     "metadata": {},
     "output_type": "execute_result"
    }
   ],
   "source": [
    "LR_f1_score"
   ]
  },
  {
   "cell_type": "markdown",
   "id": "treated-geography",
   "metadata": {},
   "source": [
    "# Decision Tree classifier"
   ]
  },
  {
   "cell_type": "code",
   "execution_count": 33,
   "id": "built-breathing",
   "metadata": {},
   "outputs": [],
   "source": [
    " # Import Decision Tree Classifier model from Scikit-Learn\n",
    "# X_train, X_test, y_train, y_test\n",
    "from sklearn.tree import DecisionTreeClassifier\n",
    "\n",
    "# Create a Decision Tree Classifier object\n",
    "dectree = DecisionTreeClassifier(max_depth = 2)"
   ]
  },
  {
   "cell_type": "code",
   "execution_count": 34,
   "id": "cloudy-shuttle",
   "metadata": {},
   "outputs": [],
   "source": [
    "DT_clf = OneVsRestClassifier(dectree)"
   ]
  },
  {
   "cell_type": "code",
   "execution_count": 35,
   "id": "thrown-writer",
   "metadata": {},
   "outputs": [
    {
     "data": {
      "text/plain": [
       "OneVsRestClassifier(estimator=DecisionTreeClassifier(max_depth=2))"
      ]
     },
     "execution_count": 35,
     "metadata": {},
     "output_type": "execute_result"
    }
   ],
   "source": [
    "# fit model on train data\n",
    "DT_clf.fit(X_train_tfidf, y_train)"
   ]
  },
  {
   "cell_type": "code",
   "execution_count": 36,
   "id": "rural-joyce",
   "metadata": {},
   "outputs": [],
   "source": [
    "# make predictions for test set\n",
    "y_pred = DT_clf.predict(X_test_tfidf)"
   ]
  },
  {
   "cell_type": "code",
   "execution_count": 37,
   "id": "reverse-demographic",
   "metadata": {},
   "outputs": [
    {
     "data": {
      "text/plain": [
       "array([0, 0, 0, 0, 1, 0, 0, 0, 0, 0, 0, 0, 0, 0, 0, 0, 0, 0, 0])"
      ]
     },
     "execution_count": 37,
     "metadata": {},
     "output_type": "execute_result"
    }
   ],
   "source": [
    "# Sanity check\n",
    "y_pred[100]"
   ]
  },
  {
   "cell_type": "code",
   "execution_count": 38,
   "id": "textile-software",
   "metadata": {},
   "outputs": [
    {
     "data": {
      "text/plain": [
       "('Crime',)"
      ]
     },
     "execution_count": 38,
     "metadata": {},
     "output_type": "execute_result"
    }
   ],
   "source": [
    "multilabel_binarizer.inverse_transform(y_pred)[100]"
   ]
  },
  {
   "cell_type": "code",
   "execution_count": 39,
   "id": "sticky-rover",
   "metadata": {},
   "outputs": [],
   "source": [
    "# evaluate performance\n",
    "DT_f1_score = f1_score(y_test, y_pred, average=\"micro\")"
   ]
  },
  {
   "cell_type": "code",
   "execution_count": 40,
   "id": "speaking-pacific",
   "metadata": {},
   "outputs": [
    {
     "data": {
      "text/plain": [
       "0.2097902097902098"
      ]
     },
     "execution_count": 40,
     "metadata": {},
     "output_type": "execute_result"
    }
   ],
   "source": [
    "DT_f1_score"
   ]
  },
  {
   "cell_type": "markdown",
   "id": "determined-criticism",
   "metadata": {},
   "source": [
    "# Gradient Boosting Classifier\n",
    "\n",
    "https://scikit-learn.org/stable/modules/generated/sklearn.ensemble.GradientBoostingClassifier.html \n"
   ]
  },
  {
   "cell_type": "code",
   "execution_count": 41,
   "id": "ceramic-amplifier",
   "metadata": {},
   "outputs": [],
   "source": [
    "# GRboost\n",
    "# X_train, X_test, y_train, y_test\n",
    "from sklearn.ensemble import GradientBoostingClassifier\n",
    "GRboost = GradientBoostingClassifier(n_estimators=100, learning_rate=1.0,max_depth=1, random_state=0)"
   ]
  },
  {
   "cell_type": "code",
   "execution_count": 42,
   "id": "moral-bankruptcy",
   "metadata": {},
   "outputs": [],
   "source": [
    "GR_clf = OneVsRestClassifier(GRboost)"
   ]
  },
  {
   "cell_type": "code",
   "execution_count": 43,
   "id": "conditional-genesis",
   "metadata": {},
   "outputs": [
    {
     "data": {
      "text/plain": [
       "OneVsRestClassifier(estimator=GradientBoostingClassifier(learning_rate=1.0,\n",
       "                                                         max_depth=1,\n",
       "                                                         random_state=0))"
      ]
     },
     "execution_count": 43,
     "metadata": {},
     "output_type": "execute_result"
    }
   ],
   "source": [
    "# fit model on train data\n",
    "GR_clf.fit(X_train_tfidf, y_train)"
   ]
  },
  {
   "cell_type": "code",
   "execution_count": 44,
   "id": "infinite-stick",
   "metadata": {},
   "outputs": [],
   "source": [
    "# make predictions for test set\n",
    "y_pred = GR_clf.predict(X_test_tfidf)"
   ]
  },
  {
   "cell_type": "code",
   "execution_count": 45,
   "id": "sustainable-ambassador",
   "metadata": {},
   "outputs": [],
   "source": [
    "# evaluate performance\n",
    "GR_f1_score = f1_score(y_test, y_pred, average=\"micro\")"
   ]
  },
  {
   "cell_type": "code",
   "execution_count": 46,
   "id": "optional-certification",
   "metadata": {},
   "outputs": [
    {
     "data": {
      "text/plain": [
       "0.40432244833569964"
      ]
     },
     "execution_count": 46,
     "metadata": {},
     "output_type": "execute_result"
    }
   ],
   "source": [
    "GR_f1_score"
   ]
  },
  {
   "cell_type": "code",
   "execution_count": 47,
   "id": "demographic-friend",
   "metadata": {},
   "outputs": [
    {
     "name": "stdout",
     "output_type": "stream",
     "text": [
      "('Drama',)\n",
      "('Drama', 'Romance')\n",
      "('Crime', 'Drama', 'Thriller')\n",
      "('Horror',)\n",
      "('Drama',)\n",
      "('Drama',)\n",
      "('Drama',)\n",
      "('Drama',)\n",
      "('Thriller',)\n",
      "()\n",
      "('Drama', 'Thriller')\n",
      "('Drama',)\n",
      "('Action', 'Science Fiction')\n",
      "('Comedy',)\n",
      "()\n",
      "()\n",
      "('Action', 'Comedy', 'Thriller')\n",
      "()\n",
      "()\n",
      "()\n"
     ]
    }
   ],
   "source": [
    "for i in range(20):\n",
    "    print(multilabel_binarizer.inverse_transform(y_pred)[i])"
   ]
  },
  {
   "cell_type": "markdown",
   "id": "centered-despite",
   "metadata": {},
   "source": [
    "## Predict a movie example on test set"
   ]
  },
  {
   "cell_type": "code",
   "execution_count": 48,
   "id": "mechanical-religion",
   "metadata": {},
   "outputs": [],
   "source": [
    "def infer_tags(q):\n",
    "    q_vec = tfidf_vectorizer.transform([q])\n",
    "    LR_q_pred = LR_clf.predict(q_vec)\n",
    "    DT_q_pred = DT_clf.predict(q_vec)\n",
    "    GR_q_pred = GR_clf.predict(q_vec)\n",
    "    return multilabel_binarizer.inverse_transform(LR_q_pred), multilabel_binarizer.inverse_transform(DT_q_pred), multilabel_binarizer.inverse_transform(GR_q_pred)"
   ]
  },
  {
   "cell_type": "code",
   "execution_count": 49,
   "id": "hairy-birmingham",
   "metadata": {},
   "outputs": [
    {
     "data": {
      "text/plain": [
       "6442"
      ]
     },
     "execution_count": 49,
     "metadata": {},
     "output_type": "execute_result"
    }
   ],
   "source": [
    "X_test.sample(1).index[0]"
   ]
  },
  {
   "cell_type": "code",
   "execution_count": 170,
   "id": "selective-scroll",
   "metadata": {},
   "outputs": [
    {
     "name": "stdout",
     "output_type": "stream",
     "text": [
      "Movie:  Attack\n",
      "\n",
      "Keywords:  ['worldwarii','u.s.armi','nationalguard','basedonplayormus','u.s.militari','moraldilemma']\n",
      "\n",
      "Predicted genre using: \n",
      "Logistic Regression :  [('Drama', 'War')]\n",
      "Decision Tree       :  [('War',)]\n",
      "Gradient Boosting   :  [('Drama',)]\n",
      "Actual genre:  ['Action', 'Drama', 'War'] \n",
      "\n",
      "//////////////////////////////////////////////////////////\n",
      "Movie:  Seven Days in May\n",
      "\n",
      "Keywords:  ['basedonnovelorbook','thewhitehous','gener','kidnap','coldwar','pentagon','u.s.airforc','conspiraci','desert','secretservic','u.s.marin','nuclearweapon','politicalthril']\n",
      "\n",
      "Predicted genre using: \n",
      "Logistic Regression :  [('Drama', 'Thriller')]\n",
      "Decision Tree       :  [('Drama',)]\n",
      "Gradient Boosting   :  [('Action', 'Drama', 'Thriller')]\n",
      "Actual genre:  ['Drama', 'Thriller'] \n",
      "\n",
      "//////////////////////////////////////////////////////////\n",
      "Movie:  Midnight Crossing\n",
      "\n",
      "Keywords:  ['sea','cuba','boat','island','cruis','blind']\n",
      "\n",
      "Predicted genre using: \n",
      "Logistic Regression :  [('Drama',)]\n",
      "Decision Tree       :  [()]\n",
      "Gradient Boosting   :  [()]\n",
      "Actual genre:  ['Mystery', 'Thriller'] \n",
      "\n",
      "//////////////////////////////////////////////////////////\n",
      "Movie:  Calendar Girls\n",
      "\n",
      "Keywords:  ['england','nuditi','mannequin','northernengland','leukemia','yorkshir','basedonatruestori']\n",
      "\n",
      "Predicted genre using: \n",
      "Logistic Regression :  [('Drama',)]\n",
      "Decision Tree       :  [()]\n",
      "Gradient Boosting   :  [('Drama', 'History')]\n",
      "Actual genre:  ['Drama', 'Comedy'] \n",
      "\n",
      "//////////////////////////////////////////////////////////\n",
      "Movie:  National Lampoon Presents Dorm Daze\n",
      "\n",
      "Keywords:  ['prostitut','colleg','dormitori','mistakenident','lossofvirgin','teenmovi','teenag','sexcomedi',\"nationallampoon'\",'foreignexchangestud','collegestud','virgin']\n",
      "\n",
      "Predicted genre using: \n",
      "Logistic Regression :  [('Comedy',)]\n",
      "Decision Tree       :  [()]\n",
      "Gradient Boosting   :  [('Comedy', 'Romance')]\n",
      "Actual genre:  ['Comedy'] \n",
      "\n",
      "//////////////////////////////////////////////////////////\n"
     ]
    }
   ],
   "source": [
    "for i in range(5):\n",
    "    k = X_test.sample(1).index[0]\n",
    "    LRpredict, DTpredict, GRpredict = infer_tags(X_test[k])\n",
    "    print(\"Movie: \", processing_data['title'][k])\n",
    "    print(\"\\nKeywords: \", processing_data['keywords'][k] )\n",
    "    print(\"\\nPredicted genre using: \")\n",
    "    print(\"Logistic Regression : \",  LRpredict )\n",
    "    print(\"Decision Tree       : \",  DTpredict )\n",
    "    print(\"Gradient Boosting   : \",  GRpredict )\n",
    "    print(\"Actual genre: \", processing_data['genres'][k], \"\\n\")\n",
    "    print(\"//////////////////////////////////////////////////////////\")"
   ]
  },
  {
   "cell_type": "code",
   "execution_count": 51,
   "id": "congressional-idaho",
   "metadata": {},
   "outputs": [
    {
     "name": "stdout",
     "output_type": "stream",
     "text": [
      "\n",
      "f1 scores : \n",
      "Logistic Regression :  0.45602090095796055\n",
      "Decision Tree       :  0.2097902097902098\n",
      "Gradient Boosting   :  0.40432244833569964\n"
     ]
    }
   ],
   "source": [
    "    print(\"\\nf1 scores : \")\n",
    "    print(\"Logistic Regression : \",  LR_f1_score )\n",
    "    print(\"Decision Tree       : \",  DT_f1_score )\n",
    "    print(\"Gradient Boosting   : \",  GR_f1_score )"
   ]
  },
  {
   "cell_type": "markdown",
   "id": "statewide-index",
   "metadata": {},
   "source": [
    "## Observation\n",
    "\n",
    "1) Comparing the f1 scores of 3 classifiers, Logistic Regression had the highest f1 score followed by Gradient Boosting, with Decision Tree being the last. This shows that the order of accuracy is Logistic Regression, Gradient Boosting, and Decision Tree in descending order. \n",
    "\n",
    "2) For prediction example using the test set, there are instances where the there is no prediction. This seems to occur when there are too few keywords for the classifiers to predict."
   ]
  },
  {
   "cell_type": "code",
   "execution_count": null,
   "id": "returning-survival",
   "metadata": {},
   "outputs": [],
   "source": []
  }
 ],
 "metadata": {
  "kernelspec": {
   "display_name": "Python 3",
   "language": "python",
   "name": "python3"
  },
  "language_info": {
   "codemirror_mode": {
    "name": "ipython",
    "version": 3
   },
   "file_extension": ".py",
   "mimetype": "text/x-python",
   "name": "python",
   "nbconvert_exporter": "python",
   "pygments_lexer": "ipython3",
   "version": "3.8.5"
  }
 },
 "nbformat": 4,
 "nbformat_minor": 5
}
